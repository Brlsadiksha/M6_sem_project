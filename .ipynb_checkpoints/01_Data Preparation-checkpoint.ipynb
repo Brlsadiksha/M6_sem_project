{
 "cells": [
  {
   "cell_type": "markdown",
   "id": "1304eaa6",
   "metadata": {},
   "source": [
    "### Making pipeline for data preparation"
   ]
  },
  {
   "cell_type": "code",
   "execution_count": 1,
   "id": "9f2f2883",
   "metadata": {},
   "outputs": [],
   "source": [
    "import pandas as pd\n",
    "import numpy as np\n",
    "from darts import TimeSeries\n",
    "    \n",
    "# Load the electric dataset(CSV) into a Pandas DataFrame\n",
    "df_el = pd.read_csv('el_price.csv', sep = ';')\n",
    "# Select the desired columns\n",
    "df_el = df_el[['MTU (CET/CEST)', 'Day-ahead Price [EUR/MWh]']]\n",
    "\n",
    "# Rename the columns\n",
    "df_el = df_el.rename(columns={'MTU (CET/CEST)': 'date', 'Day-ahead Price [EUR/MWh]': 'price'})\n",
    "\n",
    "# Extract the first 16 characters from the 'date' column\n",
    "df_el['date'] = df_el['date'].apply(lambda x: x[0:16])\n",
    "    \n",
    "# Interpolate missing values in the 'price' column using linear method\n",
    "df_el['price'].interpolate(method='linear', inplace=True)\n",
    "\n",
    "ts = TimeSeries.from_dataframe(df_el, time_col='date', value_cols = 'price', fill_missing_dates=True, freq=None)"
   ]
  },
  {
   "cell_type": "code",
   "execution_count": 3,
   "id": "1160f22b",
   "metadata": {},
   "outputs": [
    {
     "data": {
      "text/plain": [
       "date     0\n",
       "price    0\n",
       "dtype: int64"
      ]
     },
     "execution_count": 3,
     "metadata": {},
     "output_type": "execute_result"
    }
   ],
   "source": [
    "df_el.isnull().sum()"
   ]
  },
  {
   "cell_type": "code",
   "execution_count": 4,
   "id": "b50809ba",
   "metadata": {},
   "outputs": [
    {
     "name": "stdout",
     "output_type": "stream",
     "text": [
      "<class 'pandas.core.frame.DataFrame'>\n",
      "RangeIndex: 3432 entries, 0 to 3431\n",
      "Data columns (total 2 columns):\n",
      " #   Column  Non-Null Count  Dtype  \n",
      "---  ------  --------------  -----  \n",
      " 0   date    3432 non-null   object \n",
      " 1   price   3432 non-null   float64\n",
      "dtypes: float64(1), object(1)\n",
      "memory usage: 53.8+ KB\n"
     ]
    }
   ],
   "source": [
    "df_el.info()"
   ]
  }
 ],
 "metadata": {
  "kernelspec": {
   "display_name": "Python 3 (ipykernel)",
   "language": "python",
   "name": "python3"
  },
  "language_info": {
   "codemirror_mode": {
    "name": "ipython",
    "version": 3
   },
   "file_extension": ".py",
   "mimetype": "text/x-python",
   "name": "python",
   "nbconvert_exporter": "python",
   "pygments_lexer": "ipython3",
   "version": "3.10.9"
  }
 },
 "nbformat": 4,
 "nbformat_minor": 5
}
