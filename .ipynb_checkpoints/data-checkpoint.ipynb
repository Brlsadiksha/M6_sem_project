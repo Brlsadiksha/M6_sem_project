{
 "cells": [
  {
   "cell_type": "code",
   "execution_count": 53,
   "id": "dd3ecc31",
   "metadata": {
    "scrolled": true
   },
   "outputs": [
    {
     "name": "stdout",
     "output_type": "stream",
     "text": [
      "Requirement already satisfied: polars in c:\\users\\dicod\\anaconda3\\lib\\site-packages (0.17.9)\n",
      "Requirement already satisfied: typing_extensions>=4.0.1 in c:\\users\\dicod\\anaconda3\\lib\\site-packages (from polars) (4.4.0)\n",
      "Note: you may need to restart the kernel to use updated packages.\n"
     ]
    }
   ],
   "source": [
    "pip install polars"
   ]
  },
  {
   "cell_type": "code",
   "execution_count": 107,
   "id": "3513297b",
   "metadata": {},
   "outputs": [
    {
     "data": {
      "text/html": [
       "<div>\n",
       "<style scoped>\n",
       "    .dataframe tbody tr th:only-of-type {\n",
       "        vertical-align: middle;\n",
       "    }\n",
       "\n",
       "    .dataframe tbody tr th {\n",
       "        vertical-align: top;\n",
       "    }\n",
       "\n",
       "    .dataframe thead th {\n",
       "        text-align: right;\n",
       "    }\n",
       "</style>\n",
       "<table border=\"1\" class=\"dataframe\">\n",
       "  <thead>\n",
       "    <tr style=\"text-align: right;\">\n",
       "      <th></th>\n",
       "      <th>time</th>\n",
       "      <th>temperature_2m (°C)</th>\n",
       "      <th>relativehumidity_2m (%)</th>\n",
       "      <th>precipitation (mm)</th>\n",
       "      <th>direct_radiation (W/m²)</th>\n",
       "      <th>diffuse_radiation (W/m²)</th>\n",
       "      <th>windspeed_10m (m/s)</th>\n",
       "      <th>windspeed_100m (m/s)</th>\n",
       "    </tr>\n",
       "  </thead>\n",
       "  <tbody>\n",
       "    <tr>\n",
       "      <th>0</th>\n",
       "      <td>2015-01-01 00:00</td>\n",
       "      <td>4.0</td>\n",
       "      <td>97</td>\n",
       "      <td>0.0</td>\n",
       "      <td>0.0</td>\n",
       "      <td>0.0</td>\n",
       "      <td>3.75</td>\n",
       "      <td>7.13</td>\n",
       "    </tr>\n",
       "    <tr>\n",
       "      <th>1</th>\n",
       "      <td>2015-01-01 01:00</td>\n",
       "      <td>4.0</td>\n",
       "      <td>96</td>\n",
       "      <td>0.0</td>\n",
       "      <td>0.0</td>\n",
       "      <td>0.0</td>\n",
       "      <td>3.95</td>\n",
       "      <td>7.64</td>\n",
       "    </tr>\n",
       "    <tr>\n",
       "      <th>2</th>\n",
       "      <td>2015-01-01 02:00</td>\n",
       "      <td>3.8</td>\n",
       "      <td>96</td>\n",
       "      <td>0.0</td>\n",
       "      <td>0.0</td>\n",
       "      <td>0.0</td>\n",
       "      <td>4.01</td>\n",
       "      <td>7.92</td>\n",
       "    </tr>\n",
       "    <tr>\n",
       "      <th>3</th>\n",
       "      <td>2015-01-01 03:00</td>\n",
       "      <td>3.6</td>\n",
       "      <td>95</td>\n",
       "      <td>0.0</td>\n",
       "      <td>0.0</td>\n",
       "      <td>0.0</td>\n",
       "      <td>4.14</td>\n",
       "      <td>7.91</td>\n",
       "    </tr>\n",
       "    <tr>\n",
       "      <th>4</th>\n",
       "      <td>2015-01-01 04:00</td>\n",
       "      <td>3.3</td>\n",
       "      <td>94</td>\n",
       "      <td>0.0</td>\n",
       "      <td>0.0</td>\n",
       "      <td>0.0</td>\n",
       "      <td>4.04</td>\n",
       "      <td>7.83</td>\n",
       "    </tr>\n",
       "  </tbody>\n",
       "</table>\n",
       "</div>"
      ],
      "text/plain": [
       "               time  temperature_2m (°C)  relativehumidity_2m (%)  \\\n",
       "0  2015-01-01 00:00                  4.0                       97   \n",
       "1  2015-01-01 01:00                  4.0                       96   \n",
       "2  2015-01-01 02:00                  3.8                       96   \n",
       "3  2015-01-01 03:00                  3.6                       95   \n",
       "4  2015-01-01 04:00                  3.3                       94   \n",
       "\n",
       "   precipitation (mm)  direct_radiation (W/m²)  diffuse_radiation (W/m²)  \\\n",
       "0                 0.0                      0.0                       0.0   \n",
       "1                 0.0                      0.0                       0.0   \n",
       "2                 0.0                      0.0                       0.0   \n",
       "3                 0.0                      0.0                       0.0   \n",
       "4                 0.0                      0.0                       0.0   \n",
       "\n",
       "   windspeed_10m (m/s)  windspeed_100m (m/s)  \n",
       "0                 3.75                  7.13  \n",
       "1                 3.95                  7.64  \n",
       "2                 4.01                  7.92  \n",
       "3                 4.14                  7.91  \n",
       "4                 4.04                  7.83  "
      ]
     },
     "execution_count": 107,
     "metadata": {},
     "output_type": "execute_result"
    }
   ],
   "source": [
    "import pandas as pd\n",
    "import polars as pl\n",
    "from datetime import datetime\n",
    "\n",
    "# Define the input format and output format\n",
    "input_format = '%Y-%m-%dT%H:%M'\n",
    "output_format = '%Y-%m-%d %H:%M'\n",
    "\n",
    "# Read CSV file, skip first 3 rows\n",
    "df_weather = pd.read_csv('archive.csv', skiprows=3)\n",
    "\n",
    "# Convert date format\n",
    "df_weather['time'] = df_weather['time'].apply(lambda x: datetime.strptime(x, input_format).strftime(output_format))\n",
    "\n",
    "# Print the first few rows of the DataFrame\n",
    "df_weather.head()\n"
   ]
  },
  {
   "cell_type": "code",
   "execution_count": 108,
   "id": "ec4f16f7",
   "metadata": {},
   "outputs": [],
   "source": [
    "df_weather = pl.from_pandas(df_weather)"
   ]
  },
  {
   "cell_type": "code",
   "execution_count": 109,
   "id": "966e063e",
   "metadata": {},
   "outputs": [
    {
     "data": {
      "text/html": [
       "<div><style>\n",
       ".dataframe > thead > tr > th,\n",
       ".dataframe > tbody > tr > td {\n",
       "  text-align: right;\n",
       "}\n",
       "</style>\n",
       "<small>shape: (5, 8)</small><table border=\"1\" class=\"dataframe\"><thead><tr><th>time</th><th>temperature_2m (°C)</th><th>relativehumidity_2m (%)</th><th>precipitation (mm)</th><th>direct_radiation (W/m²)</th><th>diffuse_radiation (W/m²)</th><th>windspeed_10m (m/s)</th><th>windspeed_100m (m/s)</th></tr><tr><td>str</td><td>f64</td><td>i64</td><td>f64</td><td>f64</td><td>f64</td><td>f64</td><td>f64</td></tr></thead><tbody><tr><td>&quot;2015-01-01 00:…</td><td>4.0</td><td>97</td><td>0.0</td><td>0.0</td><td>0.0</td><td>3.75</td><td>7.13</td></tr><tr><td>&quot;2015-01-01 01:…</td><td>4.0</td><td>96</td><td>0.0</td><td>0.0</td><td>0.0</td><td>3.95</td><td>7.64</td></tr><tr><td>&quot;2015-01-01 02:…</td><td>3.8</td><td>96</td><td>0.0</td><td>0.0</td><td>0.0</td><td>4.01</td><td>7.92</td></tr><tr><td>&quot;2015-01-01 03:…</td><td>3.6</td><td>95</td><td>0.0</td><td>0.0</td><td>0.0</td><td>4.14</td><td>7.91</td></tr><tr><td>&quot;2015-01-01 04:…</td><td>3.3</td><td>94</td><td>0.0</td><td>0.0</td><td>0.0</td><td>4.04</td><td>7.83</td></tr></tbody></table></div>"
      ],
      "text/plain": [
       "shape: (5, 8)\n",
       "┌───────────────┬────────────┬──────────────┬──────────────┬──────────────┬──────────────┬──────────────┬──────────────┐\n",
       "│ time          ┆ temperatur ┆ relativehumi ┆ precipitatio ┆ direct_radia ┆ diffuse_radi ┆ windspeed_10 ┆ windspeed_10 │\n",
       "│ ---           ┆ e_2m (°C)  ┆ dity_2m (%)  ┆ n (mm)       ┆ tion (W/m²)  ┆ ation (W/m²) ┆ m (m/s)      ┆ 0m (m/s)     │\n",
       "│ str           ┆ ---        ┆ ---          ┆ ---          ┆ ---          ┆ ---          ┆ ---          ┆ ---          │\n",
       "│               ┆ f64        ┆ i64          ┆ f64          ┆ f64          ┆ f64          ┆ f64          ┆ f64          │\n",
       "╞═══════════════╪════════════╪══════════════╪══════════════╪══════════════╪══════════════╪══════════════╪══════════════╡\n",
       "│ 2015-01-01    ┆ 4.0        ┆ 97           ┆ 0.0          ┆ 0.0          ┆ 0.0          ┆ 3.75         ┆ 7.13         │\n",
       "│ 00:00         ┆            ┆              ┆              ┆              ┆              ┆              ┆              │\n",
       "│ 2015-01-01    ┆ 4.0        ┆ 96           ┆ 0.0          ┆ 0.0          ┆ 0.0          ┆ 3.95         ┆ 7.64         │\n",
       "│ 01:00         ┆            ┆              ┆              ┆              ┆              ┆              ┆              │\n",
       "│ 2015-01-01    ┆ 3.8        ┆ 96           ┆ 0.0          ┆ 0.0          ┆ 0.0          ┆ 4.01         ┆ 7.92         │\n",
       "│ 02:00         ┆            ┆              ┆              ┆              ┆              ┆              ┆              │\n",
       "│ 2015-01-01    ┆ 3.6        ┆ 95           ┆ 0.0          ┆ 0.0          ┆ 0.0          ┆ 4.14         ┆ 7.91         │\n",
       "│ 03:00         ┆            ┆              ┆              ┆              ┆              ┆              ┆              │\n",
       "│ 2015-01-01    ┆ 3.3        ┆ 94           ┆ 0.0          ┆ 0.0          ┆ 0.0          ┆ 4.04         ┆ 7.83         │\n",
       "│ 04:00         ┆            ┆              ┆              ┆              ┆              ┆              ┆              │\n",
       "└───────────────┴────────────┴──────────────┴──────────────┴──────────────┴──────────────┴──────────────┴──────────────┘"
      ]
     },
     "execution_count": 109,
     "metadata": {},
     "output_type": "execute_result"
    }
   ],
   "source": [
    "df_weather.head()"
   ]
  },
  {
   "cell_type": "code",
   "execution_count": 116,
   "id": "22788c86",
   "metadata": {
    "scrolled": false
   },
   "outputs": [
    {
     "data": {
      "text/html": [
       "<div><style>\n",
       ".dataframe > thead > tr > th,\n",
       ".dataframe > tbody > tr > td {\n",
       "  text-align: right;\n",
       "}\n",
       "</style>\n",
       "<small>shape: (5, 5)</small><table border=\"1\" class=\"dataframe\"><thead><tr><th>HourUTC</th><th>HourDK</th><th>PriceArea</th><th>SpotPriceDKK</th><th>SpotPriceEUR</th></tr><tr><td>str</td><td>str</td><td>str</td><td>str</td><td>str</td></tr></thead><tbody><tr><td>&quot;2019-12-30 22:…</td><td>&quot;2019-12-30 23:…</td><td>&quot;DK1&quot;</td><td>&quot;181,729996&quot;</td><td>&quot;24,330000&quot;</td></tr><tr><td>&quot;2019-12-30 21:…</td><td>&quot;2019-12-30 22:…</td><td>&quot;DK1&quot;</td><td>&quot;221,690002&quot;</td><td>&quot;29,680000&quot;</td></tr><tr><td>&quot;2019-12-30 20:…</td><td>&quot;2019-12-30 21:…</td><td>&quot;DK1&quot;</td><td>&quot;221,619995&quot;</td><td>&quot;29,670000&quot;</td></tr><tr><td>&quot;2019-12-30 19:…</td><td>&quot;2019-12-30 20:…</td><td>&quot;DK1&quot;</td><td>&quot;229,160004&quot;</td><td>&quot;30,680000&quot;</td></tr><tr><td>&quot;2019-12-30 18:…</td><td>&quot;2019-12-30 19:…</td><td>&quot;DK1&quot;</td><td>&quot;235,889999&quot;</td><td>&quot;31,580000&quot;</td></tr></tbody></table></div>"
      ],
      "text/plain": [
       "shape: (5, 5)\n",
       "┌──────────────────┬──────────────────┬───────────┬──────────────┬──────────────┐\n",
       "│ HourUTC          ┆ HourDK           ┆ PriceArea ┆ SpotPriceDKK ┆ SpotPriceEUR │\n",
       "│ ---              ┆ ---              ┆ ---       ┆ ---          ┆ ---          │\n",
       "│ str              ┆ str              ┆ str       ┆ str          ┆ str          │\n",
       "╞══════════════════╪══════════════════╪═══════════╪══════════════╪══════════════╡\n",
       "│ 2019-12-30 22:00 ┆ 2019-12-30 23:00 ┆ DK1       ┆ 181,729996   ┆ 24,330000    │\n",
       "│ 2019-12-30 21:00 ┆ 2019-12-30 22:00 ┆ DK1       ┆ 221,690002   ┆ 29,680000    │\n",
       "│ 2019-12-30 20:00 ┆ 2019-12-30 21:00 ┆ DK1       ┆ 221,619995   ┆ 29,670000    │\n",
       "│ 2019-12-30 19:00 ┆ 2019-12-30 20:00 ┆ DK1       ┆ 229,160004   ┆ 30,680000    │\n",
       "│ 2019-12-30 18:00 ┆ 2019-12-30 19:00 ┆ DK1       ┆ 235,889999   ┆ 31,580000    │\n",
       "└──────────────────┴──────────────────┴───────────┴──────────────┴──────────────┘"
      ]
     },
     "execution_count": 116,
     "metadata": {},
     "output_type": "execute_result"
    }
   ],
   "source": [
    "df_prices = pl.read_csv('Elspotprices.csv', separator = ';')\n",
    "df_prices.head()"
   ]
  },
  {
   "cell_type": "code",
   "execution_count": 133,
   "id": "6b15b233",
   "metadata": {
    "scrolled": true
   },
   "outputs": [
    {
     "name": "stdout",
     "output_type": "stream",
     "text": [
      "shape: (1, 5)\n",
      "┌─────────┬──────┬───────────┬──────────────┬──────────────┐\n",
      "│ HourUTC ┆ time ┆ PriceArea ┆ SpotPriceDKK ┆ SpotPriceEUR │\n",
      "│ ---     ┆ ---  ┆ ---       ┆ ---          ┆ ---          │\n",
      "│ u32     ┆ u32  ┆ u32       ┆ u32          ┆ u32          │\n",
      "╞═════════╪══════╪═══════════╪══════════════╪══════════════╡\n",
      "│ 0       ┆ 0    ┆ 0         ┆ 0            ┆ 0            │\n",
      "└─────────┴──────┴───────────┴──────────────┴──────────────┘\n"
     ]
    }
   ],
   "source": [
    "# df.with_columns(pl.all().is_null().suffix(\"_isnull\"))  # nan != null\n",
    "df_prices.with_columns(pl.all().is_null().suffix(\"_isnull\"))\n",
    "null_count_df = df_prices.null_count()\n",
    "#nan_count_df = df_prices.nan_count()\n",
    "print(null_count_df)\n",
    "#print(nan_count_df)"
   ]
  },
  {
   "cell_type": "code",
   "execution_count": 134,
   "id": "e59c2763",
   "metadata": {
    "scrolled": true
   },
   "outputs": [
    {
     "data": {
      "text/html": [
       "<div><style>\n",
       ".dataframe > thead > tr > th,\n",
       ".dataframe > tbody > tr > td {\n",
       "  text-align: right;\n",
       "}\n",
       "</style>\n",
       "<small>shape: (9, 6)</small><table border=\"1\" class=\"dataframe\"><thead><tr><th>describe</th><th>HourUTC</th><th>time</th><th>PriceArea</th><th>SpotPriceDKK</th><th>SpotPriceEUR</th></tr><tr><td>str</td><td>str</td><td>str</td><td>str</td><td>str</td><td>str</td></tr></thead><tbody><tr><td>&quot;count&quot;</td><td>&quot;43800&quot;</td><td>&quot;43800&quot;</td><td>&quot;43800&quot;</td><td>&quot;43800&quot;</td><td>&quot;43800&quot;</td></tr><tr><td>&quot;null_count&quot;</td><td>&quot;0&quot;</td><td>&quot;0&quot;</td><td>&quot;0&quot;</td><td>&quot;0&quot;</td><td>&quot;0&quot;</td></tr><tr><td>&quot;mean&quot;</td><td>null</td><td>null</td><td>null</td><td>null</td><td>null</td></tr><tr><td>&quot;std&quot;</td><td>null</td><td>null</td><td>null</td><td>null</td><td>null</td></tr><tr><td>&quot;min&quot;</td><td>&quot;2014-12-31 23:…</td><td>&quot;2015-01-01 00:…</td><td>&quot;DK1&quot;</td><td>&quot;-0,070000&quot;</td><td>&quot;-0,010000&quot;</td></tr><tr><td>&quot;max&quot;</td><td>&quot;2019-12-30 22:…</td><td>&quot;2019-12-30 23:…</td><td>&quot;DK1&quot;</td><td>&quot;99,980003&quot;</td><td>&quot;99,980003&quot;</td></tr><tr><td>&quot;median&quot;</td><td>null</td><td>null</td><td>null</td><td>null</td><td>null</td></tr><tr><td>&quot;25%&quot;</td><td>null</td><td>null</td><td>null</td><td>null</td><td>null</td></tr><tr><td>&quot;75%&quot;</td><td>null</td><td>null</td><td>null</td><td>null</td><td>null</td></tr></tbody></table></div>"
      ],
      "text/plain": [
       "shape: (9, 6)\n",
       "┌────────────┬──────────────────┬──────────────────┬───────────┬──────────────┬──────────────┐\n",
       "│ describe   ┆ HourUTC          ┆ time             ┆ PriceArea ┆ SpotPriceDKK ┆ SpotPriceEUR │\n",
       "│ ---        ┆ ---              ┆ ---              ┆ ---       ┆ ---          ┆ ---          │\n",
       "│ str        ┆ str              ┆ str              ┆ str       ┆ str          ┆ str          │\n",
       "╞════════════╪══════════════════╪══════════════════╪═══════════╪══════════════╪══════════════╡\n",
       "│ count      ┆ 43800            ┆ 43800            ┆ 43800     ┆ 43800        ┆ 43800        │\n",
       "│ null_count ┆ 0                ┆ 0                ┆ 0         ┆ 0            ┆ 0            │\n",
       "│ mean       ┆ null             ┆ null             ┆ null      ┆ null         ┆ null         │\n",
       "│ std        ┆ null             ┆ null             ┆ null      ┆ null         ┆ null         │\n",
       "│ min        ┆ 2014-12-31 23:00 ┆ 2015-01-01 00:00 ┆ DK1       ┆ -0,070000    ┆ -0,010000    │\n",
       "│ max        ┆ 2019-12-30 22:00 ┆ 2019-12-30 23:00 ┆ DK1       ┆ 99,980003    ┆ 99,980003    │\n",
       "│ median     ┆ null             ┆ null             ┆ null      ┆ null         ┆ null         │\n",
       "│ 25%        ┆ null             ┆ null             ┆ null      ┆ null         ┆ null         │\n",
       "│ 75%        ┆ null             ┆ null             ┆ null      ┆ null         ┆ null         │\n",
       "└────────────┴──────────────────┴──────────────────┴───────────┴──────────────┴──────────────┘"
      ]
     },
     "execution_count": 134,
     "metadata": {},
     "output_type": "execute_result"
    }
   ],
   "source": [
    "df_prices.describe()"
   ]
  },
  {
   "cell_type": "code",
   "execution_count": 138,
   "id": "1dd4d74c",
   "metadata": {},
   "outputs": [
    {
     "ename": "ValueError",
     "evalue": "DataFrame constructor called with unsupported type; got <class 'polars.dataframe.frame.DataFrame'>",
     "output_type": "error",
     "traceback": [
      "\u001b[1;31m---------------------------------------------------------------------------\u001b[0m",
      "\u001b[1;31mValueError\u001b[0m                                Traceback (most recent call last)",
      "Cell \u001b[1;32mIn[138], line 3\u001b[0m\n\u001b[0;32m      1\u001b[0m \u001b[38;5;66;03m# df.with_column(pl.col(\"numeric_ints\").cast(pl.Utf8))\u001b[39;00m\n\u001b[0;32m      2\u001b[0m \u001b[38;5;66;03m# pl.DataFrame(data, schema={\"col1\": pl.Float32, \"col2\": pl.Int64})\u001b[39;00m\n\u001b[1;32m----> 3\u001b[0m df_prices \u001b[38;5;241m=\u001b[39m \u001b[43mpl\u001b[49m\u001b[38;5;241;43m.\u001b[39;49m\u001b[43mDataFrame\u001b[49m\u001b[43m(\u001b[49m\u001b[43mdf_prices\u001b[49m\u001b[43m,\u001b[49m\u001b[43m \u001b[49m\u001b[43mschema\u001b[49m\u001b[43m \u001b[49m\u001b[38;5;241;43m=\u001b[39;49m\u001b[43m \u001b[49m\u001b[43m{\u001b[49m\u001b[38;5;124;43m'\u001b[39;49m\u001b[38;5;124;43mPriceArea\u001b[39;49m\u001b[38;5;124;43m'\u001b[39;49m\u001b[43m:\u001b[49m\u001b[43mpl\u001b[49m\u001b[38;5;241;43m.\u001b[39;49m\u001b[43mInt64\u001b[49m\u001b[43m,\u001b[49m\u001b[43m \u001b[49m\u001b[38;5;124;43m'\u001b[39;49m\u001b[38;5;124;43mSpotPriceDKK\u001b[39;49m\u001b[38;5;124;43m'\u001b[39;49m\u001b[43m:\u001b[49m\u001b[43mpl\u001b[49m\u001b[38;5;241;43m.\u001b[39;49m\u001b[43mInt64\u001b[49m\u001b[43m}\u001b[49m\u001b[43m)\u001b[49m\n",
      "File \u001b[1;32m~\\anaconda3\\lib\\site-packages\\polars\\dataframe\\frame.py:404\u001b[0m, in \u001b[0;36mDataFrame.__init__\u001b[1;34m(self, data, schema, schema_overrides, orient, infer_schema_length, nan_to_null)\u001b[0m\n\u001b[0;32m    396\u001b[0m     \u001b[38;5;28mself\u001b[39m\u001b[38;5;241m.\u001b[39m_df \u001b[38;5;241m=\u001b[39m iterable_to_pydf(\n\u001b[0;32m    397\u001b[0m         data,\n\u001b[0;32m    398\u001b[0m         schema\u001b[38;5;241m=\u001b[39mschema,\n\u001b[1;32m   (...)\u001b[0m\n\u001b[0;32m    401\u001b[0m         infer_schema_length\u001b[38;5;241m=\u001b[39minfer_schema_length,\n\u001b[0;32m    402\u001b[0m     )\n\u001b[0;32m    403\u001b[0m \u001b[38;5;28;01melse\u001b[39;00m:\n\u001b[1;32m--> 404\u001b[0m     \u001b[38;5;28;01mraise\u001b[39;00m \u001b[38;5;167;01mValueError\u001b[39;00m(\n\u001b[0;32m    405\u001b[0m         \u001b[38;5;124mf\u001b[39m\u001b[38;5;124m\"\u001b[39m\u001b[38;5;124mDataFrame constructor called with unsupported type; got \u001b[39m\u001b[38;5;132;01m{\u001b[39;00m\u001b[38;5;28mtype\u001b[39m(data)\u001b[38;5;132;01m}\u001b[39;00m\u001b[38;5;124m\"\u001b[39m\n\u001b[0;32m    406\u001b[0m     )\n",
      "\u001b[1;31mValueError\u001b[0m: DataFrame constructor called with unsupported type; got <class 'polars.dataframe.frame.DataFrame'>"
     ]
    }
   ],
   "source": [
    "# df.with_column(pl.col(\"numeric_ints\").cast(pl.Utf8))\n",
    "# pl.DataFrame(data, schema={\"col1\": pl.Float32, \"col2\": pl.Int64})\n",
    "df_prices = pl.DataFrame(df_prices, schema = {'PriceArea':pl.Int64, 'SpotPriceDKK':pl.Int64})"
   ]
  },
  {
   "cell_type": "code",
   "execution_count": 121,
   "id": "f062d964",
   "metadata": {
    "scrolled": true
   },
   "outputs": [],
   "source": [
    "df_prices = df_prices.rename({\"HourDK\": \"time\"})"
   ]
  },
  {
   "cell_type": "code",
   "execution_count": 119,
   "id": "89ad0d1d",
   "metadata": {
    "scrolled": true
   },
   "outputs": [
    {
     "data": {
      "text/plain": [
       "['time',\n",
       " 'temperature_2m (°C)',\n",
       " 'relativehumidity_2m (%)',\n",
       " 'precipitation (mm)',\n",
       " 'direct_radiation (W/m²)',\n",
       " 'diffuse_radiation (W/m²)',\n",
       " 'windspeed_10m (m/s)',\n",
       " 'windspeed_100m (m/s)']"
      ]
     },
     "execution_count": 119,
     "metadata": {},
     "output_type": "execute_result"
    }
   ],
   "source": [
    "df_weather.columns"
   ]
  },
  {
   "cell_type": "code",
   "execution_count": 122,
   "id": "8cfada74",
   "metadata": {},
   "outputs": [
    {
     "data": {
      "text/plain": [
       "['HourUTC', 'time', 'PriceArea', 'SpotPriceDKK', 'SpotPriceEUR']"
      ]
     },
     "execution_count": 122,
     "metadata": {},
     "output_type": "execute_result"
    }
   ],
   "source": [
    "df_prices.columns"
   ]
  },
  {
   "cell_type": "code",
   "execution_count": 123,
   "id": "7a6fd918",
   "metadata": {},
   "outputs": [],
   "source": [
    "# df_total = df_acc.join(df_bike, on=\"Accident_Index\", how=\"inner\")\n",
    "df_wp = df_weather.join(df_prices, on = 'time', how= \"inner\")"
   ]
  },
  {
   "cell_type": "code",
   "execution_count": 124,
   "id": "090f1743",
   "metadata": {
    "scrolled": true
   },
   "outputs": [
    {
     "data": {
      "text/html": [
       "<div><style>\n",
       ".dataframe > thead > tr > th,\n",
       ".dataframe > tbody > tr > td {\n",
       "  text-align: right;\n",
       "}\n",
       "</style>\n",
       "<small>shape: (5, 12)</small><table border=\"1\" class=\"dataframe\"><thead><tr><th>time</th><th>temperature_2m (°C)</th><th>relativehumidity_2m (%)</th><th>precipitation (mm)</th><th>direct_radiation (W/m²)</th><th>diffuse_radiation (W/m²)</th><th>windspeed_10m (m/s)</th><th>windspeed_100m (m/s)</th><th>HourUTC</th><th>PriceArea</th><th>SpotPriceDKK</th><th>SpotPriceEUR</th></tr><tr><td>str</td><td>f64</td><td>i64</td><td>f64</td><td>f64</td><td>f64</td><td>f64</td><td>f64</td><td>str</td><td>str</td><td>str</td><td>str</td></tr></thead><tbody><tr><td>&quot;2015-01-01 00:…</td><td>4.0</td><td>97</td><td>0.0</td><td>0.0</td><td>0.0</td><td>3.75</td><td>7.13</td><td>&quot;2014-12-31 23:…</td><td>&quot;DK1&quot;</td><td>&quot;186,220001&quot;</td><td>&quot;25,020000&quot;</td></tr><tr><td>&quot;2015-01-01 01:…</td><td>4.0</td><td>96</td><td>0.0</td><td>0.0</td><td>0.0</td><td>3.95</td><td>7.64</td><td>&quot;2015-01-01 00:…</td><td>&quot;DK1&quot;</td><td>&quot;136,130005&quot;</td><td>&quot;18,290001&quot;</td></tr><tr><td>&quot;2015-01-01 02:…</td><td>3.8</td><td>96</td><td>0.0</td><td>0.0</td><td>0.0</td><td>4.01</td><td>7.92</td><td>&quot;2015-01-01 01:…</td><td>&quot;DK1&quot;</td><td>&quot;119,389999&quot;</td><td>&quot;16,040001&quot;</td></tr><tr><td>&quot;2015-01-01 03:…</td><td>3.6</td><td>95</td><td>0.0</td><td>0.0</td><td>0.0</td><td>4.14</td><td>7.91</td><td>&quot;2015-01-01 02:…</td><td>&quot;DK1&quot;</td><td>&quot;108,669998&quot;</td><td>&quot;14,600000&quot;</td></tr><tr><td>&quot;2015-01-01 04:…</td><td>3.3</td><td>94</td><td>0.0</td><td>0.0</td><td>0.0</td><td>4.04</td><td>7.83</td><td>&quot;2015-01-01 03:…</td><td>&quot;DK1&quot;</td><td>&quot;111,269997&quot;</td><td>&quot;14,950000&quot;</td></tr></tbody></table></div>"
      ],
      "text/plain": [
       "shape: (5, 12)\n",
       "┌──────────────┬────────────┬──────────────┬──────────────┬───┬──────────────┬───────────┬──────────────┬──────────────┐\n",
       "│ time         ┆ temperatur ┆ relativehumi ┆ precipitatio ┆ … ┆ HourUTC      ┆ PriceArea ┆ SpotPriceDKK ┆ SpotPriceEUR │\n",
       "│ ---          ┆ e_2m (°C)  ┆ dity_2m (%)  ┆ n (mm)       ┆   ┆ ---          ┆ ---       ┆ ---          ┆ ---          │\n",
       "│ str          ┆ ---        ┆ ---          ┆ ---          ┆   ┆ str          ┆ str       ┆ str          ┆ str          │\n",
       "│              ┆ f64        ┆ i64          ┆ f64          ┆   ┆              ┆           ┆              ┆              │\n",
       "╞══════════════╪════════════╪══════════════╪══════════════╪═══╪══════════════╪═══════════╪══════════════╪══════════════╡\n",
       "│ 2015-01-01   ┆ 4.0        ┆ 97           ┆ 0.0          ┆ … ┆ 2014-12-31   ┆ DK1       ┆ 186,220001   ┆ 25,020000    │\n",
       "│ 00:00        ┆            ┆              ┆              ┆   ┆ 23:00        ┆           ┆              ┆              │\n",
       "│ 2015-01-01   ┆ 4.0        ┆ 96           ┆ 0.0          ┆ … ┆ 2015-01-01   ┆ DK1       ┆ 136,130005   ┆ 18,290001    │\n",
       "│ 01:00        ┆            ┆              ┆              ┆   ┆ 00:00        ┆           ┆              ┆              │\n",
       "│ 2015-01-01   ┆ 3.8        ┆ 96           ┆ 0.0          ┆ … ┆ 2015-01-01   ┆ DK1       ┆ 119,389999   ┆ 16,040001    │\n",
       "│ 02:00        ┆            ┆              ┆              ┆   ┆ 01:00        ┆           ┆              ┆              │\n",
       "│ 2015-01-01   ┆ 3.6        ┆ 95           ┆ 0.0          ┆ … ┆ 2015-01-01   ┆ DK1       ┆ 108,669998   ┆ 14,600000    │\n",
       "│ 03:00        ┆            ┆              ┆              ┆   ┆ 02:00        ┆           ┆              ┆              │\n",
       "│ 2015-01-01   ┆ 3.3        ┆ 94           ┆ 0.0          ┆ … ┆ 2015-01-01   ┆ DK1       ┆ 111,269997   ┆ 14,950000    │\n",
       "│ 04:00        ┆            ┆              ┆              ┆   ┆ 03:00        ┆           ┆              ┆              │\n",
       "└──────────────┴────────────┴──────────────┴──────────────┴───┴──────────────┴───────────┴──────────────┴──────────────┘"
      ]
     },
     "execution_count": 124,
     "metadata": {},
     "output_type": "execute_result"
    }
   ],
   "source": [
    "df_wp.head()"
   ]
  },
  {
   "cell_type": "code",
   "execution_count": 125,
   "id": "cae00cea",
   "metadata": {},
   "outputs": [
    {
     "data": {
      "text/plain": [
       "43800"
      ]
     },
     "execution_count": 125,
     "metadata": {},
     "output_type": "execute_result"
    }
   ],
   "source": [
    "rowCount = df_wp.shape[0]\n",
    "rowCount"
   ]
  },
  {
   "cell_type": "code",
   "execution_count": 126,
   "id": "faf893ba",
   "metadata": {},
   "outputs": [
    {
     "data": {
      "text/plain": [
       "['time',\n",
       " 'temperature_2m (°C)',\n",
       " 'relativehumidity_2m (%)',\n",
       " 'precipitation (mm)',\n",
       " 'direct_radiation (W/m²)',\n",
       " 'diffuse_radiation (W/m²)',\n",
       " 'windspeed_10m (m/s)',\n",
       " 'windspeed_100m (m/s)',\n",
       " 'HourUTC',\n",
       " 'PriceArea',\n",
       " 'SpotPriceDKK',\n",
       " 'SpotPriceEUR']"
      ]
     },
     "execution_count": 126,
     "metadata": {},
     "output_type": "execute_result"
    }
   ],
   "source": [
    "df_wp.columns"
   ]
  },
  {
   "cell_type": "code",
   "execution_count": 127,
   "id": "749bb37d",
   "metadata": {},
   "outputs": [
    {
     "data": {
      "text/html": [
       "<div><style>\n",
       ".dataframe > thead > tr > th,\n",
       ".dataframe > tbody > tr > td {\n",
       "  text-align: right;\n",
       "}\n",
       "</style>\n",
       "<small>shape: (9, 13)</small><table border=\"1\" class=\"dataframe\"><thead><tr><th>describe</th><th>time</th><th>temperature_2m (°C)</th><th>relativehumidity_2m (%)</th><th>precipitation (mm)</th><th>direct_radiation (W/m²)</th><th>diffuse_radiation (W/m²)</th><th>windspeed_10m (m/s)</th><th>windspeed_100m (m/s)</th><th>HourUTC</th><th>PriceArea</th><th>SpotPriceDKK</th><th>SpotPriceEUR</th></tr><tr><td>str</td><td>str</td><td>f64</td><td>f64</td><td>f64</td><td>f64</td><td>f64</td><td>f64</td><td>f64</td><td>str</td><td>str</td><td>str</td><td>str</td></tr></thead><tbody><tr><td>&quot;count&quot;</td><td>&quot;43800&quot;</td><td>43800.0</td><td>43800.0</td><td>43800.0</td><td>43800.0</td><td>43800.0</td><td>43800.0</td><td>43800.0</td><td>&quot;43800&quot;</td><td>&quot;43800&quot;</td><td>&quot;43800&quot;</td><td>&quot;43800&quot;</td></tr><tr><td>&quot;null_count&quot;</td><td>&quot;0&quot;</td><td>0.0</td><td>0.0</td><td>0.0</td><td>0.0</td><td>0.0</td><td>0.0</td><td>0.0</td><td>&quot;0&quot;</td><td>&quot;0&quot;</td><td>&quot;0&quot;</td><td>&quot;0&quot;</td></tr><tr><td>&quot;mean&quot;</td><td>null</td><td>10.90329</td><td>74.129954</td><td>0.063694</td><td>74.688562</td><td>52.321347</td><td>3.515374</td><td>6.020305</td><td>null</td><td>null</td><td>null</td><td>null</td></tr><tr><td>&quot;std&quot;</td><td>null</td><td>8.280516</td><td>17.516082</td><td>0.283403</td><td>142.215075</td><td>72.194674</td><td>1.659794</td><td>2.638419</td><td>null</td><td>null</td><td>null</td><td>null</td></tr><tr><td>&quot;min&quot;</td><td>&quot;2015-01-01 00:…</td><td>-12.8</td><td>15.0</td><td>0.0</td><td>0.0</td><td>0.0</td><td>0.0</td><td>0.0</td><td>&quot;2014-12-31 23:…</td><td>&quot;DK1&quot;</td><td>&quot;-0,070000&quot;</td><td>&quot;-0,010000&quot;</td></tr><tr><td>&quot;max&quot;</td><td>&quot;2019-12-30 23:…</td><td>37.4</td><td>100.0</td><td>14.7</td><td>727.0</td><td>400.0</td><td>12.89</td><td>20.07</td><td>&quot;2019-12-30 22:…</td><td>&quot;DK1&quot;</td><td>&quot;99,980003&quot;</td><td>&quot;99,980003&quot;</td></tr><tr><td>&quot;median&quot;</td><td>null</td><td>10.3</td><td>78.0</td><td>0.0</td><td>0.0</td><td>5.0</td><td>3.29</td><td>5.83</td><td>null</td><td>null</td><td>null</td><td>null</td></tr><tr><td>&quot;25%&quot;</td><td>null</td><td>4.4</td><td>62.0</td><td>0.0</td><td>0.0</td><td>0.0</td><td>2.25</td><td>4.18</td><td>null</td><td>null</td><td>null</td><td>null</td></tr><tr><td>&quot;75%&quot;</td><td>null</td><td>17.2</td><td>89.0</td><td>0.0</td><td>76.0</td><td>95.0</td><td>4.5</td><td>7.61</td><td>null</td><td>null</td><td>null</td><td>null</td></tr></tbody></table></div>"
      ],
      "text/plain": [
       "shape: (9, 13)\n",
       "┌────────────┬──────────────┬──────────────┬──────────────┬───┬──────────────┬───────────┬──────────────┬──────────────┐\n",
       "│ describe   ┆ time         ┆ temperature_ ┆ relativehumi ┆ … ┆ HourUTC      ┆ PriceArea ┆ SpotPriceDKK ┆ SpotPriceEUR │\n",
       "│ ---        ┆ ---          ┆ 2m (°C)      ┆ dity_2m (%)  ┆   ┆ ---          ┆ ---       ┆ ---          ┆ ---          │\n",
       "│ str        ┆ str          ┆ ---          ┆ ---          ┆   ┆ str          ┆ str       ┆ str          ┆ str          │\n",
       "│            ┆              ┆ f64          ┆ f64          ┆   ┆              ┆           ┆              ┆              │\n",
       "╞════════════╪══════════════╪══════════════╪══════════════╪═══╪══════════════╪═══════════╪══════════════╪══════════════╡\n",
       "│ count      ┆ 43800        ┆ 43800.0      ┆ 43800.0      ┆ … ┆ 43800        ┆ 43800     ┆ 43800        ┆ 43800        │\n",
       "│ null_count ┆ 0            ┆ 0.0          ┆ 0.0          ┆ … ┆ 0            ┆ 0         ┆ 0            ┆ 0            │\n",
       "│ mean       ┆ null         ┆ 10.90329     ┆ 74.129954    ┆ … ┆ null         ┆ null      ┆ null         ┆ null         │\n",
       "│ std        ┆ null         ┆ 8.280516     ┆ 17.516082    ┆ … ┆ null         ┆ null      ┆ null         ┆ null         │\n",
       "│ min        ┆ 2015-01-01   ┆ -12.8        ┆ 15.0         ┆ … ┆ 2014-12-31   ┆ DK1       ┆ -0,070000    ┆ -0,010000    │\n",
       "│            ┆ 00:00        ┆              ┆              ┆   ┆ 23:00        ┆           ┆              ┆              │\n",
       "│ max        ┆ 2019-12-30   ┆ 37.4         ┆ 100.0        ┆ … ┆ 2019-12-30   ┆ DK1       ┆ 99,980003    ┆ 99,980003    │\n",
       "│            ┆ 23:00        ┆              ┆              ┆   ┆ 22:00        ┆           ┆              ┆              │\n",
       "│ median     ┆ null         ┆ 10.3         ┆ 78.0         ┆ … ┆ null         ┆ null      ┆ null         ┆ null         │\n",
       "│ 25%        ┆ null         ┆ 4.4          ┆ 62.0         ┆ … ┆ null         ┆ null      ┆ null         ┆ null         │\n",
       "│ 75%        ┆ null         ┆ 17.2         ┆ 89.0         ┆ … ┆ null         ┆ null      ┆ null         ┆ null         │\n",
       "└────────────┴──────────────┴──────────────┴──────────────┴───┴──────────────┴───────────┴──────────────┴──────────────┘"
      ]
     },
     "execution_count": 127,
     "metadata": {},
     "output_type": "execute_result"
    }
   ],
   "source": [
    "df_wp.describe()"
   ]
  },
  {
   "cell_type": "code",
   "execution_count": 128,
   "id": "70cd17ad",
   "metadata": {},
   "outputs": [
    {
     "name": "stdout",
     "output_type": "stream",
     "text": [
      "shape: (1, 12)\n",
      "┌──────┬──────────────────┬──────────────────┬─────────────────┬───┬─────────┬───────────┬──────────────┬──────────────┐\n",
      "│ time ┆ temperature_2m   ┆ relativehumidity ┆ precipitation   ┆ … ┆ HourUTC ┆ PriceArea ┆ SpotPriceDKK ┆ SpotPriceEUR │\n",
      "│ ---  ┆ (°C)             ┆ _2m (%)          ┆ (mm)            ┆   ┆ ---     ┆ ---       ┆ ---          ┆ ---          │\n",
      "│ u32  ┆ ---              ┆ ---              ┆ ---             ┆   ┆ u32     ┆ u32       ┆ u32          ┆ u32          │\n",
      "│      ┆ u32              ┆ u32              ┆ u32             ┆   ┆         ┆           ┆              ┆              │\n",
      "╞══════╪══════════════════╪══════════════════╪═════════════════╪═══╪═════════╪═══════════╪══════════════╪══════════════╡\n",
      "│ 0    ┆ 0                ┆ 0                ┆ 0               ┆ … ┆ 0       ┆ 0         ┆ 0            ┆ 0            │\n",
      "└──────┴──────────────────┴──────────────────┴─────────────────┴───┴─────────┴───────────┴──────────────┴──────────────┘\n"
     ]
    }
   ],
   "source": [
    "# we need to change the datatype (HourUTC\tPriceArea\tSpotPriceDKK\tSpotPriceEUR) \n",
    "# remove null data...\n",
    "\n",
    "null_count_df_wp = df_wp.null_count()\n",
    "print(null_count_df_wp)"
   ]
  },
  {
   "cell_type": "code",
   "execution_count": null,
   "id": "ab54ada0",
   "metadata": {},
   "outputs": [],
   "source": [
    "# Grouping and Aggregation"
   ]
  },
  {
   "cell_type": "code",
   "execution_count": null,
   "id": "b690c371",
   "metadata": {},
   "outputs": [],
   "source": []
  },
  {
   "cell_type": "code",
   "execution_count": null,
   "id": "89b9fcc3",
   "metadata": {},
   "outputs": [],
   "source": []
  },
  {
   "cell_type": "code",
   "execution_count": null,
   "id": "5d57ebfb",
   "metadata": {},
   "outputs": [],
   "source": []
  },
  {
   "cell_type": "code",
   "execution_count": null,
   "id": "6c21652b",
   "metadata": {},
   "outputs": [],
   "source": []
  }
 ],
 "metadata": {
  "kernelspec": {
   "display_name": "Python 3 (ipykernel)",
   "language": "python",
   "name": "python3"
  },
  "language_info": {
   "codemirror_mode": {
    "name": "ipython",
    "version": 3
   },
   "file_extension": ".py",
   "mimetype": "text/x-python",
   "name": "python",
   "nbconvert_exporter": "python",
   "pygments_lexer": "ipython3",
   "version": "3.10.9"
  }
 },
 "nbformat": 4,
 "nbformat_minor": 5
}
