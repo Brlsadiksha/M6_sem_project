{
 "cells": [
  {
   "cell_type": "code",
   "execution_count": 60,
   "id": "e8cb3282",
   "metadata": {},
   "outputs": [],
   "source": [
    "# basic\n",
    "import pandas as pd\n",
    "import numpy as np\n",
    "import time\n",
    "import glob\n",
    "from datetime import datetime \n",
    "\n",
    "\n",
    "# darts\n",
    "from darts import TimeSeries\n",
    "from darts.dataprocessing import Pipeline\n",
    "from darts.dataprocessing.transformers import Scaler\n",
    "import matplotlib.pyplot as plt"
   ]
  },
  {
   "cell_type": "code",
   "execution_count": 75,
   "id": "a744fc1c",
   "metadata": {},
   "outputs": [],
   "source": [
    "csv_files = glob.glob('/Users/dicod/semester_projects_02/Data/*.csv')\n",
    "df = pd.DataFrame()\n",
    "\n",
    "for file in csv_files:\n",
    "    temp_df = pd.read_csv(file)\n",
    "    df = pd.concat([df, temp_df], ignore_index=True)"
   ]
  },
  {
   "cell_type": "code",
   "execution_count": 76,
   "id": "a817297b",
   "metadata": {},
   "outputs": [],
   "source": [
    "df = df[['MTU (CET/CEST)','Day-ahead Price [EUR/MWh]']]\n",
    "df = df.rename(columns={'MTU (CET/CEST)': 'date', 'Day-ahead Price [EUR/MWh]': 'Price'})\n",
    "df['date'] = df['date'].apply(lambda x: x[0:16])"
   ]
  },
  {
   "cell_type": "code",
   "execution_count": 77,
   "id": "5edc0f17",
   "metadata": {},
   "outputs": [
    {
     "name": "stdout",
     "output_type": "stream",
     "text": [
      "<class 'pandas.core.frame.DataFrame'>\n",
      "RangeIndex: 35068 entries, 0 to 35067\n",
      "Data columns (total 2 columns):\n",
      " #   Column  Non-Null Count  Dtype \n",
      "---  ------  --------------  ----- \n",
      " 0   date    35068 non-null  object\n",
      " 1   Price   35064 non-null  object\n",
      "dtypes: object(2)\n",
      "memory usage: 548.1+ KB\n"
     ]
    }
   ],
   "source": [
    "df.info()"
   ]
  },
  {
   "cell_type": "code",
   "execution_count": 78,
   "id": "83e5dafa",
   "metadata": {
    "scrolled": true
   },
   "outputs": [
    {
     "data": {
      "text/html": [
       "<div>\n",
       "<style scoped>\n",
       "    .dataframe tbody tr th:only-of-type {\n",
       "        vertical-align: middle;\n",
       "    }\n",
       "\n",
       "    .dataframe tbody tr th {\n",
       "        vertical-align: top;\n",
       "    }\n",
       "\n",
       "    .dataframe thead th {\n",
       "        text-align: right;\n",
       "    }\n",
       "</style>\n",
       "<table border=\"1\" class=\"dataframe\">\n",
       "  <thead>\n",
       "    <tr style=\"text-align: right;\">\n",
       "      <th></th>\n",
       "      <th>date</th>\n",
       "      <th>Price</th>\n",
       "    </tr>\n",
       "  </thead>\n",
       "  <tbody>\n",
       "    <tr>\n",
       "      <th>2114</th>\n",
       "      <td>29.03.2020 02:00</td>\n",
       "      <td>NaN</td>\n",
       "    </tr>\n",
       "    <tr>\n",
       "      <th>10851</th>\n",
       "      <td>28.03.2021 02:00</td>\n",
       "      <td>NaN</td>\n",
       "    </tr>\n",
       "    <tr>\n",
       "      <th>19588</th>\n",
       "      <td>27.03.2022 02:00</td>\n",
       "      <td>NaN</td>\n",
       "    </tr>\n",
       "    <tr>\n",
       "      <th>28325</th>\n",
       "      <td>26.03.2023 02:00</td>\n",
       "      <td>NaN</td>\n",
       "    </tr>\n",
       "  </tbody>\n",
       "</table>\n",
       "</div>"
      ],
      "text/plain": [
       "                   date Price\n",
       "2114   29.03.2020 02:00   NaN\n",
       "10851  28.03.2021 02:00   NaN\n",
       "19588  27.03.2022 02:00   NaN\n",
       "28325  26.03.2023 02:00   NaN"
      ]
     },
     "execution_count": 78,
     "metadata": {},
     "output_type": "execute_result"
    }
   ],
   "source": [
    "df[df.Price.isnull() == True]"
   ]
  },
  {
   "cell_type": "code",
   "execution_count": 79,
   "id": "c4cb06a7",
   "metadata": {
    "scrolled": false
   },
   "outputs": [
    {
     "data": {
      "text/html": [
       "<div>\n",
       "<style scoped>\n",
       "    .dataframe tbody tr th:only-of-type {\n",
       "        vertical-align: middle;\n",
       "    }\n",
       "\n",
       "    .dataframe tbody tr th {\n",
       "        vertical-align: top;\n",
       "    }\n",
       "\n",
       "    .dataframe thead th {\n",
       "        text-align: right;\n",
       "    }\n",
       "</style>\n",
       "<table border=\"1\" class=\"dataframe\">\n",
       "  <thead>\n",
       "    <tr style=\"text-align: right;\">\n",
       "      <th></th>\n",
       "      <th>date</th>\n",
       "      <th>Price</th>\n",
       "    </tr>\n",
       "  </thead>\n",
       "  <tbody>\n",
       "    <tr>\n",
       "      <th>2114</th>\n",
       "      <td>29.03.2020 02:00</td>\n",
       "      <td>NaN</td>\n",
       "    </tr>\n",
       "  </tbody>\n",
       "</table>\n",
       "</div>"
      ],
      "text/plain": [
       "                  date Price\n",
       "2114  29.03.2020 02:00   NaN"
      ]
     },
     "execution_count": 79,
     "metadata": {},
     "output_type": "execute_result"
    }
   ],
   "source": [
    "df[df.date == '29.03.2020 02:00']"
   ]
  },
  {
   "cell_type": "code",
   "execution_count": 80,
   "id": "36c9ca84",
   "metadata": {},
   "outputs": [],
   "source": [
    "df = df[df['Price'] != '-']"
   ]
  },
  {
   "cell_type": "code",
   "execution_count": 81,
   "id": "6c8d9c8c",
   "metadata": {
    "scrolled": true
   },
   "outputs": [
    {
     "data": {
      "text/html": [
       "<div>\n",
       "<style scoped>\n",
       "    .dataframe tbody tr th:only-of-type {\n",
       "        vertical-align: middle;\n",
       "    }\n",
       "\n",
       "    .dataframe tbody tr th {\n",
       "        vertical-align: top;\n",
       "    }\n",
       "\n",
       "    .dataframe thead th {\n",
       "        text-align: right;\n",
       "    }\n",
       "</style>\n",
       "<table border=\"1\" class=\"dataframe\">\n",
       "  <thead>\n",
       "    <tr style=\"text-align: right;\">\n",
       "      <th></th>\n",
       "      <th>date</th>\n",
       "      <th>Price</th>\n",
       "    </tr>\n",
       "  </thead>\n",
       "  <tbody>\n",
       "  </tbody>\n",
       "</table>\n",
       "</div>"
      ],
      "text/plain": [
       "Empty DataFrame\n",
       "Columns: [date, Price]\n",
       "Index: []"
      ]
     },
     "execution_count": 81,
     "metadata": {},
     "output_type": "execute_result"
    }
   ],
   "source": [
    "df[df.Price == '-']"
   ]
  },
  {
   "cell_type": "code",
   "execution_count": 82,
   "id": "d7c0cc81",
   "metadata": {},
   "outputs": [],
   "source": [
    "#df['Price'].fillna(df['Price'].mean(), inplace=True)\n",
    "# why we use interpolate operation: Linear Interpolation simply means to estimate a missing value by connecting dots in a straight line in increasing order.\n",
    "# In short, It estimates the unknown value in the same increasing order from previous values. The default method used by Interpolation is Linear.\n",
    "\n",
    "df['Price'].interpolate(method='linear', inplace=True)"
   ]
  },
  {
   "cell_type": "code",
   "execution_count": 83,
   "id": "828d72e2",
   "metadata": {
    "scrolled": true
   },
   "outputs": [
    {
     "name": "stdout",
     "output_type": "stream",
     "text": [
      "<class 'pandas.core.frame.DataFrame'>\n",
      "Int64Index: 29715 entries, 0 to 29714\n",
      "Data columns (total 2 columns):\n",
      " #   Column  Non-Null Count  Dtype \n",
      "---  ------  --------------  ----- \n",
      " 0   date    29715 non-null  object\n",
      " 1   Price   29711 non-null  object\n",
      "dtypes: object(2)\n",
      "memory usage: 696.4+ KB\n"
     ]
    }
   ],
   "source": [
    "df.info()\n",
    "# it still have nan data."
   ]
  },
  {
   "cell_type": "code",
   "execution_count": 84,
   "id": "c27c7d99",
   "metadata": {},
   "outputs": [
    {
     "data": {
      "text/plain": [
       "date     0\n",
       "Price    4\n",
       "dtype: int64"
      ]
     },
     "execution_count": 84,
     "metadata": {},
     "output_type": "execute_result"
    }
   ],
   "source": [
    "df.isnull().sum()"
   ]
  },
  {
   "cell_type": "code",
   "execution_count": 85,
   "id": "96b0641c",
   "metadata": {},
   "outputs": [],
   "source": [
    "# interpoate function does not work, so I try median price.\n",
    "median_price = df['Price'].median()\n",
    "df['Price'].fillna(median_price, inplace=True)  "
   ]
  },
  {
   "cell_type": "code",
   "execution_count": 86,
   "id": "2c7e718d",
   "metadata": {},
   "outputs": [
    {
     "data": {
      "text/plain": [
       "date     0\n",
       "Price    0\n",
       "dtype: int64"
      ]
     },
     "execution_count": 86,
     "metadata": {},
     "output_type": "execute_result"
    }
   ],
   "source": [
    "df.isnull().sum()"
   ]
  },
  {
   "cell_type": "code",
   "execution_count": 87,
   "id": "9dc3d5b0",
   "metadata": {},
   "outputs": [
    {
     "data": {
      "text/plain": [
       "3"
      ]
     },
     "execution_count": 87,
     "metadata": {},
     "output_type": "execute_result"
    }
   ],
   "source": [
    "df['date'].duplicated().sum()"
   ]
  },
  {
   "cell_type": "code",
   "execution_count": 88,
   "id": "bbaaef3f",
   "metadata": {},
   "outputs": [
    {
     "data": {
      "text/plain": [
       "date     0\n",
       "Price    0\n",
       "dtype: int64"
      ]
     },
     "execution_count": 88,
     "metadata": {},
     "output_type": "execute_result"
    }
   ],
   "source": [
    "df_no_duplicates = df.drop_duplicates(subset='date')\n",
    "df_no_duplicates.isnull().sum()"
   ]
  },
  {
   "cell_type": "code",
   "execution_count": 89,
   "id": "6456f785",
   "metadata": {
    "scrolled": true
   },
   "outputs": [
    {
     "data": {
      "text/html": [
       "<div>\n",
       "<style scoped>\n",
       "    .dataframe tbody tr th:only-of-type {\n",
       "        vertical-align: middle;\n",
       "    }\n",
       "\n",
       "    .dataframe tbody tr th {\n",
       "        vertical-align: top;\n",
       "    }\n",
       "\n",
       "    .dataframe thead th {\n",
       "        text-align: right;\n",
       "    }\n",
       "</style>\n",
       "<table border=\"1\" class=\"dataframe\">\n",
       "  <thead>\n",
       "    <tr style=\"text-align: right;\">\n",
       "      <th></th>\n",
       "      <th>date</th>\n",
       "      <th>Price</th>\n",
       "    </tr>\n",
       "  </thead>\n",
       "  <tbody>\n",
       "    <tr>\n",
       "      <th>0</th>\n",
       "      <td>01.01.2020 00:00</td>\n",
       "      <td>33.42</td>\n",
       "    </tr>\n",
       "    <tr>\n",
       "      <th>1</th>\n",
       "      <td>01.01.2020 01:00</td>\n",
       "      <td>31.77</td>\n",
       "    </tr>\n",
       "    <tr>\n",
       "      <th>2</th>\n",
       "      <td>01.01.2020 02:00</td>\n",
       "      <td>31.57</td>\n",
       "    </tr>\n",
       "    <tr>\n",
       "      <th>3</th>\n",
       "      <td>01.01.2020 03:00</td>\n",
       "      <td>31.28</td>\n",
       "    </tr>\n",
       "    <tr>\n",
       "      <th>4</th>\n",
       "      <td>01.01.2020 04:00</td>\n",
       "      <td>30.85</td>\n",
       "    </tr>\n",
       "  </tbody>\n",
       "</table>\n",
       "</div>"
      ],
      "text/plain": [
       "               date  Price\n",
       "0  01.01.2020 00:00  33.42\n",
       "1  01.01.2020 01:00  31.77\n",
       "2  01.01.2020 02:00  31.57\n",
       "3  01.01.2020 03:00  31.28\n",
       "4  01.01.2020 04:00  30.85"
      ]
     },
     "execution_count": 89,
     "metadata": {},
     "output_type": "execute_result"
    }
   ],
   "source": [
    "df_finish = df_no_duplicates\n",
    "df_finish.head()"
   ]
  },
  {
   "cell_type": "code",
   "execution_count": 90,
   "id": "83633ec3",
   "metadata": {},
   "outputs": [],
   "source": [
    "df_finish.to_csv('clean_df.csv')"
   ]
  },
  {
   "cell_type": "code",
   "execution_count": 91,
   "id": "fc978ceb",
   "metadata": {},
   "outputs": [],
   "source": [
    "time_series = TimeSeries.from_dataframe(df_finish, time_col='date', value_cols = 'Price', fill_missing_dates=True, freq=None)"
   ]
  },
  {
   "cell_type": "code",
   "execution_count": 92,
   "id": "5c5f369c",
   "metadata": {},
   "outputs": [],
   "source": [
    "ts = time_series"
   ]
  },
  {
   "cell_type": "code",
   "execution_count": null,
   "id": "5d3a97c9",
   "metadata": {},
   "outputs": [
    {
     "data": {
      "text/plain": [
       "2222"
      ]
     },
     "execution_count": 93,
     "metadata": {},
     "output_type": "execute_result"
    }
   ],
   "source": [
    "33333"
   ]
  }
 ],
 "metadata": {
  "kernelspec": {
   "display_name": "Python 3 (ipykernel)",
   "language": "python",
   "name": "python3"
  },
  "language_info": {
   "codemirror_mode": {
    "name": "ipython",
    "version": 3
   },
   "file_extension": ".py",
   "mimetype": "text/x-python",
   "name": "python",
   "nbconvert_exporter": "python",
   "pygments_lexer": "ipython3",
   "version": "3.11.2"
  }
 },
 "nbformat": 4,
 "nbformat_minor": 5
}
