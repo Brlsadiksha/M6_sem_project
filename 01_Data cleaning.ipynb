{
 "cells": [
  {
   "cell_type": "code",
   "execution_count": 1,
   "id": "e8cb3282",
   "metadata": {},
   "outputs": [],
   "source": [
    "# basic\n",
    "import pandas as pd\n",
    "import numpy as np\n",
    "import time\n",
    "import glob\n",
    "from datetime import datetime \n",
    "\n",
    "\n",
    "# darts\n",
    "from darts import TimeSeries\n",
    "from darts.dataprocessing import Pipeline\n",
    "from darts.dataprocessing.transformers import Scaler\n",
    "import matplotlib.pyplot as plt\n"
   ]
  },
  {
   "cell_type": "code",
   "execution_count": 2,
   "id": "a744fc1c",
   "metadata": {},
   "outputs": [],
   "source": [
    "csv_files = glob.glob('/Users/dicod/semester_projects_02/Data/*.csv')\n",
    "df = pd.DataFrame()\n",
    "\n",
    "for file in csv_files:\n",
    "    temp_df = pd.read_csv(file)\n",
    "    df = pd.concat([df, temp_df], ignore_index=True)"
   ]
  },
  {
   "cell_type": "code",
   "execution_count": 3,
   "id": "a817297b",
   "metadata": {},
   "outputs": [],
   "source": [
    "df = df[['MTU (CET/CEST)','Day-ahead Price [EUR/MWh]']]\n",
    "df = df.rename(columns={'MTU (CET/CEST)': 'date', 'Day-ahead Price [EUR/MWh]': 'Price'})\n",
    "df['date'] = df['date'].apply(lambda x: x[0:16])"
   ]
  },
  {
   "cell_type": "code",
   "execution_count": 4,
   "id": "c2b5379a",
   "metadata": {},
   "outputs": [],
   "source": [
    "#df['Price'].fillna(df['Price'].mean(), inplace=True)\n",
    "# why we use interpolate operation: Linear Interpolation simply means to estimate a missing value by connecting dots in a straight line in increasing order.\n",
    "# In short, It estimates the unknown value in the same increasing order from previous values. The default method used by Interpolation is Linear.\n",
    "df['Price'].fillna(df['Price'].interpolate(), inplace=True)"
   ]
  },
  {
   "cell_type": "code",
   "execution_count": 5,
   "id": "55a5a7d2",
   "metadata": {},
   "outputs": [
    {
     "data": {
      "text/plain": [
       "date     0\n",
       "Price    0\n",
       "dtype: int64"
      ]
     },
     "execution_count": 5,
     "metadata": {},
     "output_type": "execute_result"
    }
   ],
   "source": [
    "df.isnull().sum()"
   ]
  },
  {
   "cell_type": "code",
   "execution_count": 6,
   "id": "bbaaef3f",
   "metadata": {},
   "outputs": [
    {
     "data": {
      "text/plain": [
       "date     0\n",
       "Price    0\n",
       "dtype: int64"
      ]
     },
     "execution_count": 6,
     "metadata": {},
     "output_type": "execute_result"
    }
   ],
   "source": [
    "df_no_duplicates = df.drop_duplicates(subset='date')\n",
    "df_no_duplicates.isnull().sum()"
   ]
  },
  {
   "cell_type": "code",
   "execution_count": 8,
   "id": "6456f785",
   "metadata": {},
   "outputs": [
    {
     "data": {
      "text/html": [
       "<div>\n",
       "<style scoped>\n",
       "    .dataframe tbody tr th:only-of-type {\n",
       "        vertical-align: middle;\n",
       "    }\n",
       "\n",
       "    .dataframe tbody tr th {\n",
       "        vertical-align: top;\n",
       "    }\n",
       "\n",
       "    .dataframe thead th {\n",
       "        text-align: right;\n",
       "    }\n",
       "</style>\n",
       "<table border=\"1\" class=\"dataframe\">\n",
       "  <thead>\n",
       "    <tr style=\"text-align: right;\">\n",
       "      <th></th>\n",
       "      <th>date</th>\n",
       "      <th>Price</th>\n",
       "    </tr>\n",
       "  </thead>\n",
       "  <tbody>\n",
       "    <tr>\n",
       "      <th>0</th>\n",
       "      <td>01.01.2020 00:00</td>\n",
       "      <td>33.42</td>\n",
       "    </tr>\n",
       "    <tr>\n",
       "      <th>1</th>\n",
       "      <td>01.01.2020 01:00</td>\n",
       "      <td>31.77</td>\n",
       "    </tr>\n",
       "    <tr>\n",
       "      <th>2</th>\n",
       "      <td>01.01.2020 02:00</td>\n",
       "      <td>31.57</td>\n",
       "    </tr>\n",
       "    <tr>\n",
       "      <th>3</th>\n",
       "      <td>01.01.2020 03:00</td>\n",
       "      <td>31.28</td>\n",
       "    </tr>\n",
       "    <tr>\n",
       "      <th>4</th>\n",
       "      <td>01.01.2020 04:00</td>\n",
       "      <td>30.85</td>\n",
       "    </tr>\n",
       "  </tbody>\n",
       "</table>\n",
       "</div>"
      ],
      "text/plain": [
       "               date  Price\n",
       "0  01.01.2020 00:00  33.42\n",
       "1  01.01.2020 01:00  31.77\n",
       "2  01.01.2020 02:00  31.57\n",
       "3  01.01.2020 03:00  31.28\n",
       "4  01.01.2020 04:00  30.85"
      ]
     },
     "execution_count": 8,
     "metadata": {},
     "output_type": "execute_result"
    }
   ],
   "source": [
    "df_finish = df_no_duplicates\n",
    "df_finish.head()"
   ]
  },
  {
   "cell_type": "code",
   "execution_count": 9,
   "id": "83633ec3",
   "metadata": {},
   "outputs": [],
   "source": [
    "df_finish.to_csv('clean_df.csv')"
   ]
  },
  {
   "cell_type": "code",
   "execution_count": 10,
   "id": "fc978ceb",
   "metadata": {},
   "outputs": [],
   "source": [
    "time_series = TimeSeries.from_dataframe(df_finish, time_col='date', value_cols = 'Price', fill_missing_dates=True, freq=None)"
   ]
  },
  {
   "cell_type": "code",
   "execution_count": 12,
   "id": "5c5f369c",
   "metadata": {},
   "outputs": [],
   "source": [
    "ts = time_series"
   ]
  }
 ],
 "metadata": {
  "kernelspec": {
   "display_name": "Python 3 (ipykernel)",
   "language": "python",
   "name": "python3"
  },
  "language_info": {
   "codemirror_mode": {
    "name": "ipython",
    "version": 3
   },
   "file_extension": ".py",
   "mimetype": "text/x-python",
   "name": "python",
   "nbconvert_exporter": "python",
   "pygments_lexer": "ipython3",
   "version": "3.10.9"
  }
 },
 "nbformat": 4,
 "nbformat_minor": 5
}
