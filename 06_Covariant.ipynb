{
 "cells": [
  {
   "cell_type": "markdown",
   "id": "257e6283",
   "metadata": {},
   "source": [
    "# Covariant using renewable Energy"
   ]
  },
  {
   "cell_type": "markdown",
   "id": "eef7c1a2",
   "metadata": {},
   "source": [
    "https://unit8co.github.io/darts/generated_api/darts.timeseries.html#darts.timeseries.TimeSeries.has_static_covariates"
   ]
  },
  {
   "cell_type": "code",
   "execution_count": 1,
   "id": "8490b004",
   "metadata": {},
   "outputs": [],
   "source": [
    "import pandas as pd\n",
    "import numpy as np\n",
    "import matplotlib.pyplot as plt\n",
    "import requests\n",
    "from datetime import datetime"
   ]
  },
  {
   "cell_type": "code",
   "execution_count": 2,
   "id": "54fd39f6",
   "metadata": {},
   "outputs": [],
   "source": [
    "url = \"https://archive-api.open-meteo.com/v1/archive?latitude=57.05&longitude=9.92&start_date=2020-01-01&end_date=2023-05-22&hourly=temperature_2m\""
   ]
  },
  {
   "cell_type": "code",
   "execution_count": 3,
   "id": "da5b7351",
   "metadata": {},
   "outputs": [],
   "source": [
    "response = requests.get(url)"
   ]
  },
  {
   "cell_type": "code",
   "execution_count": 6,
   "id": "2d527c89",
   "metadata": {
    "scrolled": false
   },
   "outputs": [
    {
     "data": {
      "text/plain": [
       "'import csv\\n# Check if the request was successful (status code 200 indicates success)\\nif response.status_code == 200:\\n    # Access the content of the response\\n    data = response.content\\n\\n    # Process or save the data as needed\\n    # For example, if the data is in CSV format, you can use the \\'csv\\' module to read it:\\n    reader = csv.reader(data.decode(\\'utf-8\\').splitlines())\\n    for row in reader:\\n        # Process each row of data\\n        print(row)\\n\\n    # Alternatively, you can save the data to a file\\n    with open(\"data.csv\", \"wb\") as file:\\n        file.write(data)\\nelse:\\n    # Handle the case when the request was not successful\\n    print(\"Error: Failed to retrieve data. Status code:\", response.status_code)'"
      ]
     },
     "execution_count": 6,
     "metadata": {},
     "output_type": "execute_result"
    }
   ],
   "source": [
    "'''import csv\n",
    "# Check if the request was successful (status code 200 indicates success)\n",
    "if response.status_code == 200:\n",
    "    # Access the content of the response\n",
    "    data = response.content\n",
    "\n",
    "    # Process or save the data as needed\n",
    "    # For example, if the data is in CSV format, you can use the 'csv' module to read it:\n",
    "    reader = csv.reader(data.decode('utf-8').splitlines())\n",
    "    for row in reader:\n",
    "        # Process each row of data\n",
    "        print(row)\n",
    "\n",
    "    # Alternatively, you can save the data to a file\n",
    "    with open(\"data.csv\", \"wb\") as file:\n",
    "        file.write(data)\n",
    "else:\n",
    "    # Handle the case when the request was not successful\n",
    "    print(\"Error: Failed to retrieve data. Status code:\", response.status_code)'''"
   ]
  },
  {
   "cell_type": "code",
   "execution_count": 5,
   "id": "bfe5de89",
   "metadata": {},
   "outputs": [
    {
     "data": {
      "text/plain": [
       "'import requests\\nimport json\\n\\nurl = \"https://archive-api.open-meteo.com/v1/archive?latitude=57.05&longitude=9.92&start_date=2020-01-01&end_date=2023-05-22&hourly=temperature_2m\"\\nresponse = requests.get(url)\\n\\n# Check if the request was successful (status code 200)\\nif response.status_code == 200:\\n    # Convert the response to JSON format\\n    data = response.json()\\n\\n    # Extract the today\\'s electric price from the JSON data\\n    today_price = data[\\'today_price\\']\\n\\n    # Use the extracted data as per your requirement\\n    print(\"Today\\'s electric price:\", today_price)\\nelse:\\n    print(\"Failed to retrieve data. Status code:\", response.status_code)\\n    \\nwhile True:\\n    get_electric_price()\\n    time.sleep(3600)  # Delay for 1 hour (3600 seconds)'"
      ]
     },
     "execution_count": 5,
     "metadata": {},
     "output_type": "execute_result"
    }
   ],
   "source": [
    "'''import requests\n",
    "import json\n",
    "\n",
    "url = \"https://archive-api.open-meteo.com/v1/archive?latitude=57.05&longitude=9.92&start_date=2020-01-01&end_date=2023-05-22&hourly=temperature_2m\"\n",
    "response = requests.get(url)\n",
    "\n",
    "# Check if the request was successful (status code 200)\n",
    "if response.status_code == 200:\n",
    "    # Convert the response to JSON format\n",
    "    data = response.json()\n",
    "\n",
    "    # Extract the today's electric price from the JSON data\n",
    "    today_price = data['today_price']\n",
    "\n",
    "    # Use the extracted data as per your requirement\n",
    "    print(\"Today's electric price:\", today_price)\n",
    "else:\n",
    "    print(\"Failed to retrieve data. Status code:\", response.status_code)\n",
    "    \n",
    "while True:\n",
    "    get_electric_price()\n",
    "    time.sleep(3600)  # Delay for 1 hour (3600 seconds)'''\n"
   ]
  },
  {
   "cell_type": "code",
   "execution_count": 7,
   "id": "f64edf8e",
   "metadata": {},
   "outputs": [],
   "source": [
    "df_weather = pd.read_csv('weather.csv', skiprows=3)"
   ]
  },
  {
   "cell_type": "code",
   "execution_count": 8,
   "id": "914d1beb",
   "metadata": {},
   "outputs": [
    {
     "name": "stdout",
     "output_type": "stream",
     "text": [
      "<class 'pandas.core.frame.DataFrame'>\n",
      "RangeIndex: 29712 entries, 0 to 29711\n",
      "Data columns (total 6 columns):\n",
      " #   Column                    Non-Null Count  Dtype  \n",
      "---  ------                    --------------  -----  \n",
      " 0   time                      29712 non-null  object \n",
      " 1   temperature_2m (°C)       29545 non-null  float64\n",
      " 2   direct_radiation (W/m²)   29545 non-null  float64\n",
      " 3   diffuse_radiation (W/m²)  29545 non-null  float64\n",
      " 4   windspeed_10m (m/s)       29545 non-null  float64\n",
      " 5   windspeed_100m (m/s)      29545 non-null  float64\n",
      "dtypes: float64(5), object(1)\n",
      "memory usage: 1.4+ MB\n"
     ]
    }
   ],
   "source": [
    "df_weather.info()"
   ]
  },
  {
   "cell_type": "code",
   "execution_count": 9,
   "id": "b6675cb0",
   "metadata": {},
   "outputs": [
    {
     "data": {
      "text/html": [
       "<div>\n",
       "<style scoped>\n",
       "    .dataframe tbody tr th:only-of-type {\n",
       "        vertical-align: middle;\n",
       "    }\n",
       "\n",
       "    .dataframe tbody tr th {\n",
       "        vertical-align: top;\n",
       "    }\n",
       "\n",
       "    .dataframe thead th {\n",
       "        text-align: right;\n",
       "    }\n",
       "</style>\n",
       "<table border=\"1\" class=\"dataframe\">\n",
       "  <thead>\n",
       "    <tr style=\"text-align: right;\">\n",
       "      <th></th>\n",
       "      <th>time</th>\n",
       "      <th>temperature_2m (°C)</th>\n",
       "      <th>direct_radiation (W/m²)</th>\n",
       "      <th>diffuse_radiation (W/m²)</th>\n",
       "      <th>windspeed_10m (m/s)</th>\n",
       "      <th>windspeed_100m (m/s)</th>\n",
       "    </tr>\n",
       "  </thead>\n",
       "  <tbody>\n",
       "    <tr>\n",
       "      <th>0</th>\n",
       "      <td>2020-01-01T00:00</td>\n",
       "      <td>2.3</td>\n",
       "      <td>0.0</td>\n",
       "      <td>0.0</td>\n",
       "      <td>2.63</td>\n",
       "      <td>6.04</td>\n",
       "    </tr>\n",
       "    <tr>\n",
       "      <th>1</th>\n",
       "      <td>2020-01-01T01:00</td>\n",
       "      <td>1.8</td>\n",
       "      <td>0.0</td>\n",
       "      <td>0.0</td>\n",
       "      <td>2.80</td>\n",
       "      <td>6.04</td>\n",
       "    </tr>\n",
       "    <tr>\n",
       "      <th>2</th>\n",
       "      <td>2020-01-01T02:00</td>\n",
       "      <td>1.5</td>\n",
       "      <td>0.0</td>\n",
       "      <td>0.0</td>\n",
       "      <td>3.11</td>\n",
       "      <td>6.41</td>\n",
       "    </tr>\n",
       "    <tr>\n",
       "      <th>3</th>\n",
       "      <td>2020-01-01T03:00</td>\n",
       "      <td>1.1</td>\n",
       "      <td>0.0</td>\n",
       "      <td>0.0</td>\n",
       "      <td>2.61</td>\n",
       "      <td>5.76</td>\n",
       "    </tr>\n",
       "    <tr>\n",
       "      <th>4</th>\n",
       "      <td>2020-01-01T04:00</td>\n",
       "      <td>0.7</td>\n",
       "      <td>0.0</td>\n",
       "      <td>0.0</td>\n",
       "      <td>2.32</td>\n",
       "      <td>5.47</td>\n",
       "    </tr>\n",
       "  </tbody>\n",
       "</table>\n",
       "</div>"
      ],
      "text/plain": [
       "               time  temperature_2m (°C)  direct_radiation (W/m²)  \\\n",
       "0  2020-01-01T00:00                  2.3                      0.0   \n",
       "1  2020-01-01T01:00                  1.8                      0.0   \n",
       "2  2020-01-01T02:00                  1.5                      0.0   \n",
       "3  2020-01-01T03:00                  1.1                      0.0   \n",
       "4  2020-01-01T04:00                  0.7                      0.0   \n",
       "\n",
       "   diffuse_radiation (W/m²)  windspeed_10m (m/s)  windspeed_100m (m/s)  \n",
       "0                       0.0                 2.63                  6.04  \n",
       "1                       0.0                 2.80                  6.04  \n",
       "2                       0.0                 3.11                  6.41  \n",
       "3                       0.0                 2.61                  5.76  \n",
       "4                       0.0                 2.32                  5.47  "
      ]
     },
     "execution_count": 9,
     "metadata": {},
     "output_type": "execute_result"
    }
   ],
   "source": [
    "df_weather.head()"
   ]
  },
  {
   "cell_type": "code",
   "execution_count": 10,
   "id": "08e3a9d4",
   "metadata": {},
   "outputs": [],
   "source": [
    "# change the date form\n",
    "\n",
    "from datetime import datetime\n",
    "\n",
    "# define the input and output format\n",
    "input_format = \"%Y-%m-%dT%H:%M\"\n",
    "output_format = \"%d.%m.%Y %H:%M\"\n",
    "\n",
    "# convert format\n",
    "df_weather['time'] = df_weather['time'].apply(lambda x: datetime.strptime(x, input_format).strftime(output_format))"
   ]
  },
  {
   "cell_type": "code",
   "execution_count": 11,
   "id": "2412f48c",
   "metadata": {},
   "outputs": [
    {
     "data": {
      "text/html": [
       "<div>\n",
       "<style scoped>\n",
       "    .dataframe tbody tr th:only-of-type {\n",
       "        vertical-align: middle;\n",
       "    }\n",
       "\n",
       "    .dataframe tbody tr th {\n",
       "        vertical-align: top;\n",
       "    }\n",
       "\n",
       "    .dataframe thead th {\n",
       "        text-align: right;\n",
       "    }\n",
       "</style>\n",
       "<table border=\"1\" class=\"dataframe\">\n",
       "  <thead>\n",
       "    <tr style=\"text-align: right;\">\n",
       "      <th></th>\n",
       "      <th>time</th>\n",
       "      <th>temperature_2m (°C)</th>\n",
       "      <th>direct_radiation (W/m²)</th>\n",
       "      <th>diffuse_radiation (W/m²)</th>\n",
       "      <th>windspeed_10m (m/s)</th>\n",
       "      <th>windspeed_100m (m/s)</th>\n",
       "    </tr>\n",
       "  </thead>\n",
       "  <tbody>\n",
       "    <tr>\n",
       "      <th>0</th>\n",
       "      <td>01.01.2020 00:00</td>\n",
       "      <td>2.3</td>\n",
       "      <td>0.0</td>\n",
       "      <td>0.0</td>\n",
       "      <td>2.63</td>\n",
       "      <td>6.04</td>\n",
       "    </tr>\n",
       "    <tr>\n",
       "      <th>1</th>\n",
       "      <td>01.01.2020 01:00</td>\n",
       "      <td>1.8</td>\n",
       "      <td>0.0</td>\n",
       "      <td>0.0</td>\n",
       "      <td>2.80</td>\n",
       "      <td>6.04</td>\n",
       "    </tr>\n",
       "    <tr>\n",
       "      <th>2</th>\n",
       "      <td>01.01.2020 02:00</td>\n",
       "      <td>1.5</td>\n",
       "      <td>0.0</td>\n",
       "      <td>0.0</td>\n",
       "      <td>3.11</td>\n",
       "      <td>6.41</td>\n",
       "    </tr>\n",
       "    <tr>\n",
       "      <th>3</th>\n",
       "      <td>01.01.2020 03:00</td>\n",
       "      <td>1.1</td>\n",
       "      <td>0.0</td>\n",
       "      <td>0.0</td>\n",
       "      <td>2.61</td>\n",
       "      <td>5.76</td>\n",
       "    </tr>\n",
       "    <tr>\n",
       "      <th>4</th>\n",
       "      <td>01.01.2020 04:00</td>\n",
       "      <td>0.7</td>\n",
       "      <td>0.0</td>\n",
       "      <td>0.0</td>\n",
       "      <td>2.32</td>\n",
       "      <td>5.47</td>\n",
       "    </tr>\n",
       "  </tbody>\n",
       "</table>\n",
       "</div>"
      ],
      "text/plain": [
       "               time  temperature_2m (°C)  direct_radiation (W/m²)  \\\n",
       "0  01.01.2020 00:00                  2.3                      0.0   \n",
       "1  01.01.2020 01:00                  1.8                      0.0   \n",
       "2  01.01.2020 02:00                  1.5                      0.0   \n",
       "3  01.01.2020 03:00                  1.1                      0.0   \n",
       "4  01.01.2020 04:00                  0.7                      0.0   \n",
       "\n",
       "   diffuse_radiation (W/m²)  windspeed_10m (m/s)  windspeed_100m (m/s)  \n",
       "0                       0.0                 2.63                  6.04  \n",
       "1                       0.0                 2.80                  6.04  \n",
       "2                       0.0                 3.11                  6.41  \n",
       "3                       0.0                 2.61                  5.76  \n",
       "4                       0.0                 2.32                  5.47  "
      ]
     },
     "execution_count": 11,
     "metadata": {},
     "output_type": "execute_result"
    }
   ],
   "source": [
    "df_weather.head()"
   ]
  },
  {
   "cell_type": "code",
   "execution_count": 12,
   "id": "8cbd8b2b",
   "metadata": {
    "scrolled": false
   },
   "outputs": [
    {
     "name": "stdout",
     "output_type": "stream",
     "text": [
      "<class 'pandas.core.frame.DataFrame'>\n",
      "RangeIndex: 29712 entries, 0 to 29711\n",
      "Data columns (total 6 columns):\n",
      " #   Column                    Non-Null Count  Dtype  \n",
      "---  ------                    --------------  -----  \n",
      " 0   time                      29712 non-null  object \n",
      " 1   temperature_2m (°C)       29545 non-null  float64\n",
      " 2   direct_radiation (W/m²)   29545 non-null  float64\n",
      " 3   diffuse_radiation (W/m²)  29545 non-null  float64\n",
      " 4   windspeed_10m (m/s)       29545 non-null  float64\n",
      " 5   windspeed_100m (m/s)      29545 non-null  float64\n",
      "dtypes: float64(5), object(1)\n",
      "memory usage: 1.4+ MB\n"
     ]
    }
   ],
   "source": [
    "df_weather.info()"
   ]
  },
  {
   "cell_type": "code",
   "execution_count": 13,
   "id": "227ac2c5",
   "metadata": {},
   "outputs": [],
   "source": [
    "# nan data handling_interpolate(method='linear', inplace=True)\n",
    "df_weather['temperature_2m (°C)'].interpolate(method='linear', inplace=True)"
   ]
  },
  {
   "cell_type": "code",
   "execution_count": 14,
   "id": "f79dc864",
   "metadata": {},
   "outputs": [],
   "source": [
    "df_weather['direct_radiation (W/m²)'].interpolate(method='linear', inplace=True)\n",
    "df_weather['diffuse_radiation (W/m²)'].interpolate(method='linear', inplace=True)\n",
    "df_weather['windspeed_10m (m/s)'].interpolate(method='linear', inplace=True)\n",
    "df_weather['windspeed_100m (m/s)'].interpolate(method='linear', inplace=True)"
   ]
  },
  {
   "cell_type": "code",
   "execution_count": 15,
   "id": "304ecbb3",
   "metadata": {},
   "outputs": [
    {
     "name": "stdout",
     "output_type": "stream",
     "text": [
      "<class 'pandas.core.frame.DataFrame'>\n",
      "RangeIndex: 29712 entries, 0 to 29711\n",
      "Data columns (total 6 columns):\n",
      " #   Column                    Non-Null Count  Dtype  \n",
      "---  ------                    --------------  -----  \n",
      " 0   time                      29712 non-null  object \n",
      " 1   temperature_2m (°C)       29712 non-null  float64\n",
      " 2   direct_radiation (W/m²)   29712 non-null  float64\n",
      " 3   diffuse_radiation (W/m²)  29712 non-null  float64\n",
      " 4   windspeed_10m (m/s)       29712 non-null  float64\n",
      " 5   windspeed_100m (m/s)      29712 non-null  float64\n",
      "dtypes: float64(5), object(1)\n",
      "memory usage: 1.4+ MB\n"
     ]
    }
   ],
   "source": [
    "df_weather.info()"
   ]
  },
  {
   "cell_type": "code",
   "execution_count": 17,
   "id": "b553d741",
   "metadata": {},
   "outputs": [],
   "source": [
    "df = pd.read_csv('df_clean.csv')"
   ]
  },
  {
   "cell_type": "code",
   "execution_count": 18,
   "id": "a870acc0",
   "metadata": {},
   "outputs": [
    {
     "name": "stdout",
     "output_type": "stream",
     "text": [
      "<class 'pandas.core.frame.DataFrame'>\n",
      "RangeIndex: 29712 entries, 0 to 29711\n",
      "Data columns (total 3 columns):\n",
      " #   Column      Non-Null Count  Dtype  \n",
      "---  ------      --------------  -----  \n",
      " 0   Unnamed: 0  29712 non-null  int64  \n",
      " 1   date        29712 non-null  object \n",
      " 2   Price       29712 non-null  float64\n",
      "dtypes: float64(1), int64(1), object(1)\n",
      "memory usage: 696.5+ KB\n"
     ]
    }
   ],
   "source": [
    "df.info()"
   ]
  },
  {
   "cell_type": "code",
   "execution_count": 19,
   "id": "188d2763",
   "metadata": {},
   "outputs": [],
   "source": [
    "df_weather = df_weather.rename(columns={'time': 'date'})"
   ]
  },
  {
   "cell_type": "code",
   "execution_count": 20,
   "id": "b8a77a54",
   "metadata": {},
   "outputs": [],
   "source": [
    "# join the df and df_weather\n",
    "df_total = pd.merge(df, df_weather, on ='date', how = 'inner')"
   ]
  },
  {
   "cell_type": "code",
   "execution_count": 21,
   "id": "72217c04",
   "metadata": {},
   "outputs": [
    {
     "data": {
      "text/html": [
       "<div>\n",
       "<style scoped>\n",
       "    .dataframe tbody tr th:only-of-type {\n",
       "        vertical-align: middle;\n",
       "    }\n",
       "\n",
       "    .dataframe tbody tr th {\n",
       "        vertical-align: top;\n",
       "    }\n",
       "\n",
       "    .dataframe thead th {\n",
       "        text-align: right;\n",
       "    }\n",
       "</style>\n",
       "<table border=\"1\" class=\"dataframe\">\n",
       "  <thead>\n",
       "    <tr style=\"text-align: right;\">\n",
       "      <th></th>\n",
       "      <th>Unnamed: 0</th>\n",
       "      <th>date</th>\n",
       "      <th>Price</th>\n",
       "      <th>temperature_2m (°C)</th>\n",
       "      <th>direct_radiation (W/m²)</th>\n",
       "      <th>diffuse_radiation (W/m²)</th>\n",
       "      <th>windspeed_10m (m/s)</th>\n",
       "      <th>windspeed_100m (m/s)</th>\n",
       "    </tr>\n",
       "  </thead>\n",
       "  <tbody>\n",
       "    <tr>\n",
       "      <th>0</th>\n",
       "      <td>0</td>\n",
       "      <td>01.01.2020 00:00</td>\n",
       "      <td>33.42</td>\n",
       "      <td>2.3</td>\n",
       "      <td>0.0</td>\n",
       "      <td>0.0</td>\n",
       "      <td>2.63</td>\n",
       "      <td>6.04</td>\n",
       "    </tr>\n",
       "    <tr>\n",
       "      <th>1</th>\n",
       "      <td>1</td>\n",
       "      <td>01.01.2020 01:00</td>\n",
       "      <td>31.77</td>\n",
       "      <td>1.8</td>\n",
       "      <td>0.0</td>\n",
       "      <td>0.0</td>\n",
       "      <td>2.80</td>\n",
       "      <td>6.04</td>\n",
       "    </tr>\n",
       "    <tr>\n",
       "      <th>2</th>\n",
       "      <td>2</td>\n",
       "      <td>01.01.2020 02:00</td>\n",
       "      <td>31.57</td>\n",
       "      <td>1.5</td>\n",
       "      <td>0.0</td>\n",
       "      <td>0.0</td>\n",
       "      <td>3.11</td>\n",
       "      <td>6.41</td>\n",
       "    </tr>\n",
       "    <tr>\n",
       "      <th>3</th>\n",
       "      <td>3</td>\n",
       "      <td>01.01.2020 03:00</td>\n",
       "      <td>31.28</td>\n",
       "      <td>1.1</td>\n",
       "      <td>0.0</td>\n",
       "      <td>0.0</td>\n",
       "      <td>2.61</td>\n",
       "      <td>5.76</td>\n",
       "    </tr>\n",
       "    <tr>\n",
       "      <th>4</th>\n",
       "      <td>4</td>\n",
       "      <td>01.01.2020 04:00</td>\n",
       "      <td>30.85</td>\n",
       "      <td>0.7</td>\n",
       "      <td>0.0</td>\n",
       "      <td>0.0</td>\n",
       "      <td>2.32</td>\n",
       "      <td>5.47</td>\n",
       "    </tr>\n",
       "  </tbody>\n",
       "</table>\n",
       "</div>"
      ],
      "text/plain": [
       "   Unnamed: 0              date  Price  temperature_2m (°C)  \\\n",
       "0           0  01.01.2020 00:00  33.42                  2.3   \n",
       "1           1  01.01.2020 01:00  31.77                  1.8   \n",
       "2           2  01.01.2020 02:00  31.57                  1.5   \n",
       "3           3  01.01.2020 03:00  31.28                  1.1   \n",
       "4           4  01.01.2020 04:00  30.85                  0.7   \n",
       "\n",
       "   direct_radiation (W/m²)  diffuse_radiation (W/m²)  windspeed_10m (m/s)  \\\n",
       "0                      0.0                       0.0                 2.63   \n",
       "1                      0.0                       0.0                 2.80   \n",
       "2                      0.0                       0.0                 3.11   \n",
       "3                      0.0                       0.0                 2.61   \n",
       "4                      0.0                       0.0                 2.32   \n",
       "\n",
       "   windspeed_100m (m/s)  \n",
       "0                  6.04  \n",
       "1                  6.04  \n",
       "2                  6.41  \n",
       "3                  5.76  \n",
       "4                  5.47  "
      ]
     },
     "execution_count": 21,
     "metadata": {},
     "output_type": "execute_result"
    }
   ],
   "source": [
    "df_total.head()"
   ]
  },
  {
   "cell_type": "code",
   "execution_count": 22,
   "id": "d127cff5",
   "metadata": {},
   "outputs": [],
   "source": [
    "df_total.drop(columns = ['Unnamed: 0'], inplace = True)"
   ]
  },
  {
   "cell_type": "code",
   "execution_count": 23,
   "id": "038eb4d1",
   "metadata": {
    "scrolled": true
   },
   "outputs": [
    {
     "data": {
      "text/html": [
       "<div>\n",
       "<style scoped>\n",
       "    .dataframe tbody tr th:only-of-type {\n",
       "        vertical-align: middle;\n",
       "    }\n",
       "\n",
       "    .dataframe tbody tr th {\n",
       "        vertical-align: top;\n",
       "    }\n",
       "\n",
       "    .dataframe thead th {\n",
       "        text-align: right;\n",
       "    }\n",
       "</style>\n",
       "<table border=\"1\" class=\"dataframe\">\n",
       "  <thead>\n",
       "    <tr style=\"text-align: right;\">\n",
       "      <th></th>\n",
       "      <th>date</th>\n",
       "      <th>Price</th>\n",
       "      <th>temperature_2m (°C)</th>\n",
       "      <th>direct_radiation (W/m²)</th>\n",
       "      <th>diffuse_radiation (W/m²)</th>\n",
       "      <th>windspeed_10m (m/s)</th>\n",
       "      <th>windspeed_100m (m/s)</th>\n",
       "    </tr>\n",
       "  </thead>\n",
       "  <tbody>\n",
       "    <tr>\n",
       "      <th>0</th>\n",
       "      <td>01.01.2020 00:00</td>\n",
       "      <td>33.42</td>\n",
       "      <td>2.3</td>\n",
       "      <td>0.0</td>\n",
       "      <td>0.0</td>\n",
       "      <td>2.63</td>\n",
       "      <td>6.04</td>\n",
       "    </tr>\n",
       "    <tr>\n",
       "      <th>1</th>\n",
       "      <td>01.01.2020 01:00</td>\n",
       "      <td>31.77</td>\n",
       "      <td>1.8</td>\n",
       "      <td>0.0</td>\n",
       "      <td>0.0</td>\n",
       "      <td>2.80</td>\n",
       "      <td>6.04</td>\n",
       "    </tr>\n",
       "    <tr>\n",
       "      <th>2</th>\n",
       "      <td>01.01.2020 02:00</td>\n",
       "      <td>31.57</td>\n",
       "      <td>1.5</td>\n",
       "      <td>0.0</td>\n",
       "      <td>0.0</td>\n",
       "      <td>3.11</td>\n",
       "      <td>6.41</td>\n",
       "    </tr>\n",
       "    <tr>\n",
       "      <th>3</th>\n",
       "      <td>01.01.2020 03:00</td>\n",
       "      <td>31.28</td>\n",
       "      <td>1.1</td>\n",
       "      <td>0.0</td>\n",
       "      <td>0.0</td>\n",
       "      <td>2.61</td>\n",
       "      <td>5.76</td>\n",
       "    </tr>\n",
       "    <tr>\n",
       "      <th>4</th>\n",
       "      <td>01.01.2020 04:00</td>\n",
       "      <td>30.85</td>\n",
       "      <td>0.7</td>\n",
       "      <td>0.0</td>\n",
       "      <td>0.0</td>\n",
       "      <td>2.32</td>\n",
       "      <td>5.47</td>\n",
       "    </tr>\n",
       "  </tbody>\n",
       "</table>\n",
       "</div>"
      ],
      "text/plain": [
       "               date  Price  temperature_2m (°C)  direct_radiation (W/m²)  \\\n",
       "0  01.01.2020 00:00  33.42                  2.3                      0.0   \n",
       "1  01.01.2020 01:00  31.77                  1.8                      0.0   \n",
       "2  01.01.2020 02:00  31.57                  1.5                      0.0   \n",
       "3  01.01.2020 03:00  31.28                  1.1                      0.0   \n",
       "4  01.01.2020 04:00  30.85                  0.7                      0.0   \n",
       "\n",
       "   diffuse_radiation (W/m²)  windspeed_10m (m/s)  windspeed_100m (m/s)  \n",
       "0                       0.0                 2.63                  6.04  \n",
       "1                       0.0                 2.80                  6.04  \n",
       "2                       0.0                 3.11                  6.41  \n",
       "3                       0.0                 2.61                  5.76  \n",
       "4                       0.0                 2.32                  5.47  "
      ]
     },
     "execution_count": 23,
     "metadata": {},
     "output_type": "execute_result"
    }
   ],
   "source": [
    "df_total.head()"
   ]
  },
  {
   "cell_type": "code",
   "execution_count": 24,
   "id": "9bfd5385",
   "metadata": {
    "scrolled": false
   },
   "outputs": [
    {
     "data": {
      "text/html": [
       "<div>\n",
       "<style scoped>\n",
       "    .dataframe tbody tr th:only-of-type {\n",
       "        vertical-align: middle;\n",
       "    }\n",
       "\n",
       "    .dataframe tbody tr th {\n",
       "        vertical-align: top;\n",
       "    }\n",
       "\n",
       "    .dataframe thead th {\n",
       "        text-align: right;\n",
       "    }\n",
       "</style>\n",
       "<table border=\"1\" class=\"dataframe\">\n",
       "  <thead>\n",
       "    <tr style=\"text-align: right;\">\n",
       "      <th></th>\n",
       "      <th>Price</th>\n",
       "      <th>temperature_2m (°C)</th>\n",
       "      <th>direct_radiation (W/m²)</th>\n",
       "      <th>diffuse_radiation (W/m²)</th>\n",
       "      <th>windspeed_10m (m/s)</th>\n",
       "      <th>windspeed_100m (m/s)</th>\n",
       "    </tr>\n",
       "  </thead>\n",
       "  <tbody>\n",
       "    <tr>\n",
       "      <th>count</th>\n",
       "      <td>29712.000000</td>\n",
       "      <td>29712.0000</td>\n",
       "      <td>29712.000000</td>\n",
       "      <td>29712.000000</td>\n",
       "      <td>29712.000000</td>\n",
       "      <td>29712.000000</td>\n",
       "    </tr>\n",
       "    <tr>\n",
       "      <th>mean</th>\n",
       "      <td>109.689398</td>\n",
       "      <td>10.3167</td>\n",
       "      <td>69.750875</td>\n",
       "      <td>51.956179</td>\n",
       "      <td>3.497762</td>\n",
       "      <td>6.032121</td>\n",
       "    </tr>\n",
       "    <tr>\n",
       "      <th>std</th>\n",
       "      <td>116.504769</td>\n",
       "      <td>7.9374</td>\n",
       "      <td>137.003612</td>\n",
       "      <td>72.155614</td>\n",
       "      <td>1.658471</td>\n",
       "      <td>2.651064</td>\n",
       "    </tr>\n",
       "    <tr>\n",
       "      <th>min</th>\n",
       "      <td>-58.800000</td>\n",
       "      <td>-15.7000</td>\n",
       "      <td>0.000000</td>\n",
       "      <td>0.000000</td>\n",
       "      <td>0.000000</td>\n",
       "      <td>0.000000</td>\n",
       "    </tr>\n",
       "    <tr>\n",
       "      <th>25%</th>\n",
       "      <td>31.367500</td>\n",
       "      <td>4.2000</td>\n",
       "      <td>0.000000</td>\n",
       "      <td>0.000000</td>\n",
       "      <td>2.270000</td>\n",
       "      <td>4.180000</td>\n",
       "    </tr>\n",
       "    <tr>\n",
       "      <th>50%</th>\n",
       "      <td>73.320000</td>\n",
       "      <td>9.6000</td>\n",
       "      <td>0.000000</td>\n",
       "      <td>3.000000</td>\n",
       "      <td>3.260000</td>\n",
       "      <td>5.840000</td>\n",
       "    </tr>\n",
       "    <tr>\n",
       "      <th>75%</th>\n",
       "      <td>144.877500</td>\n",
       "      <td>16.1000</td>\n",
       "      <td>66.000000</td>\n",
       "      <td>94.000000</td>\n",
       "      <td>4.400000</td>\n",
       "      <td>7.620000</td>\n",
       "    </tr>\n",
       "    <tr>\n",
       "      <th>max</th>\n",
       "      <td>871.000000</td>\n",
       "      <td>37.5000</td>\n",
       "      <td>749.000000</td>\n",
       "      <td>381.000000</td>\n",
       "      <td>13.020000</td>\n",
       "      <td>20.440000</td>\n",
       "    </tr>\n",
       "  </tbody>\n",
       "</table>\n",
       "</div>"
      ],
      "text/plain": [
       "              Price  temperature_2m (°C)  direct_radiation (W/m²)  \\\n",
       "count  29712.000000           29712.0000             29712.000000   \n",
       "mean     109.689398              10.3167                69.750875   \n",
       "std      116.504769               7.9374               137.003612   \n",
       "min      -58.800000             -15.7000                 0.000000   \n",
       "25%       31.367500               4.2000                 0.000000   \n",
       "50%       73.320000               9.6000                 0.000000   \n",
       "75%      144.877500              16.1000                66.000000   \n",
       "max      871.000000              37.5000               749.000000   \n",
       "\n",
       "       diffuse_radiation (W/m²)  windspeed_10m (m/s)  windspeed_100m (m/s)  \n",
       "count              29712.000000         29712.000000          29712.000000  \n",
       "mean                  51.956179             3.497762              6.032121  \n",
       "std                   72.155614             1.658471              2.651064  \n",
       "min                    0.000000             0.000000              0.000000  \n",
       "25%                    0.000000             2.270000              4.180000  \n",
       "50%                    3.000000             3.260000              5.840000  \n",
       "75%                   94.000000             4.400000              7.620000  \n",
       "max                  381.000000            13.020000             20.440000  "
      ]
     },
     "execution_count": 24,
     "metadata": {},
     "output_type": "execute_result"
    }
   ],
   "source": [
    "df_total.describe()"
   ]
  },
  {
   "cell_type": "code",
   "execution_count": null,
   "id": "844d7c7b",
   "metadata": {},
   "outputs": [],
   "source": []
  },
  {
   "cell_type": "markdown",
   "id": "60de8acb",
   "metadata": {},
   "source": [
    "## Covariates_Price and windspeed_100m (m/s)"
   ]
  },
  {
   "cell_type": "markdown",
   "id": "61b9efec",
   "metadata": {},
   "source": [
    "static_covariates_values(copy=True)[source]\n",
    "Return a 2-D array of dimension (component, static variable), containing the static covariate values of the TimeSeries.\n",
    "\n",
    "Parameters\n",
    "copy (bool) – Whether to return a copy of the values, otherwise returns a view. Can only return a view if all values have the same dtype. Leave it to True unless you know what you are doing.\n",
    "\n",
    "Returns\n",
    "The static covariate values if the series has static covariates, else None.\n",
    "\n",
    "Return type\n",
    "Optional[numpy.ndarray]"
   ]
  },
  {
   "cell_type": "code",
   "execution_count": 25,
   "id": "5d4a09c1",
   "metadata": {},
   "outputs": [],
   "source": [
    "from darts import TimeSeries\n",
    "ts_price = TimeSeries.from_dataframe(df_total, time_col='date', value_cols = 'Price', fill_missing_dates=True, freq=None)\n",
    "ts_wind = TimeSeries.from_dataframe(df_total, time_col='date', value_cols = 'windspeed_100m (m/s)', fill_missing_dates=True, freq=None)"
   ]
  },
  {
   "cell_type": "code",
   "execution_count": 26,
   "id": "27218147",
   "metadata": {},
   "outputs": [
    {
     "data": {
      "image/png": "[encoded data removed]",
      "text/plain": [
       "<Figure size 640x480 with 1 Axes>"
      ]
     },
     "metadata": {},
     "output_type": "display_data"
    }
   ],
   "source": [
    "# set aside last 36 months of each series as validation set:\n",
    "train_price, test_price = ts_price.split_after(pd.Timestamp(\"01.01.2023 01:00\"))\n",
    "train_wind, test_wind = ts_wind.split_after(pd.Timestamp(\"01.01.2023 01:00\"))\n",
    "\n",
    "train_price.plot()\n",
    "test_price.plot()\n",
    "train_wind.plot()\n",
    "test_wind.plot()"
   ]
  },
  {
   "cell_type": "markdown",
   "id": "c91cdb1b",
   "metadata": {},
   "source": [
    "https://unit8co.github.io/darts/quickstart/00-quickstart.html#Regression-forecasting-models\n",
    "\n",
    "There are two kinds of covariate time series in Darts:\n",
    "\n",
    "* past_covariates\n",
    "\n",
    "past_covariates are series not necessarily known ahead of the forecast time. Those can for instance represent things that have to be measured and are not known upfront. Models do not use the future values of past_covariates when making forecasts.\n",
    "* future_covariates\n",
    "\n",
    "future_covariates are series which are known in advance, up to the forecast horizon. This can represent things such as calendar information, holidays, weather forecasts, etc. Models that accept future_covariates will look at the future values (up to the forecast horizon) when making forecasts."
   ]
  },
  {
   "cell_type": "code",
   "execution_count": 27,
   "id": "ae0176f0",
   "metadata": {
    "scrolled": false
   },
   "outputs": [
    {
     "data": {
      "image/png": "[encoded data removed]",
      "text/plain": [
       "<Figure size 640x480 with 1 Axes>"
      ]
     },
     "metadata": {},
     "output_type": "display_data"
    }
   ],
   "source": [
    "from darts import concatenate\n",
    "from darts.utils.timeseries_generation import datetime_attribute_timeseries as dt_attr\n",
    "\n",
    "price_covs = concatenate(\n",
    "    [\n",
    "        dt_attr(ts_price.time_index, \"month\", dtype=np.float32) / 12,\n",
    "        (dt_attr(ts_price.time_index, \"year\", dtype=np.float32) - 2000) / 4,\n",
    "    ],\n",
    "    axis=\"component\",\n",
    ")\n",
    "\n",
    "wind_covs = concatenate(\n",
    "    [\n",
    "        dt_attr(ts_wind.time_index, \"month\", dtype=np.float32) / 12,\n",
    "        (dt_attr(ts_wind.time_index, \"year\", dtype=np.float32) - 2000) / 4,\n",
    "    ],\n",
    "    axis=\"component\",\n",
    ")\n",
    "\n",
    "price_covs.plot()\n",
    "plt.title(\n",
    "    \"one multivariate time series of 2 dimensions, containing covariates for the ts_price:\"\n",
    ");"
   ]
  },
  {
   "cell_type": "code",
   "execution_count": 28,
   "id": "84775605",
   "metadata": {
    "scrolled": true
   },
   "outputs": [
    {
     "name": "stdout",
     "output_type": "stream",
     "text": [
      "<TimeSeries (DataArray) (date: 34440, component: 2, sample: 1)>\n",
      "array([[[0.08333334],\n",
      "        [5.        ]],\n",
      "\n",
      "       [[0.08333334],\n",
      "        [5.        ]],\n",
      "\n",
      "       [[0.08333334],\n",
      "        [5.        ]],\n",
      "\n",
      "       ...,\n",
      "\n",
      "       [[1.        ],\n",
      "        [5.75      ]],\n",
      "\n",
      "       [[1.        ],\n",
      "        [5.75      ]],\n",
      "\n",
      "       [[1.        ],\n",
      "        [5.75      ]]], dtype=float32)\n",
      "Coordinates:\n",
      "  * date       (date) datetime64[ns] 2020-01-01 ... 2023-12-05T23:00:00\n",
      "  * component  (component) object 'month' 'year'\n",
      "Dimensions without coordinates: sample\n",
      "Attributes:\n",
      "    static_covariates:  None\n",
      "    hierarchy:          None\n",
      "<TimeSeries (DataArray) (date: 34440, component: 2, sample: 1)>\n",
      "array([[[0.08333334],\n",
      "        [5.        ]],\n",
      "\n",
      "       [[0.08333334],\n",
      "        [5.        ]],\n",
      "\n",
      "       [[0.08333334],\n",
      "        [5.        ]],\n",
      "\n",
      "       ...,\n",
      "\n",
      "       [[1.        ],\n",
      "        [5.75      ]],\n",
      "\n",
      "       [[1.        ],\n",
      "        [5.75      ]],\n",
      "\n",
      "       [[1.        ],\n",
      "        [5.75      ]]], dtype=float32)\n",
      "Coordinates:\n",
      "  * date       (date) datetime64[ns] 2020-01-01 ... 2023-12-05T23:00:00\n",
      "  * component  (component) object 'month' 'year'\n",
      "Dimensions without coordinates: sample\n",
      "Attributes:\n",
      "    static_covariates:  None\n",
      "    hierarchy:          None\n"
     ]
    }
   ],
   "source": [
    "print(price_covs)\n",
    "print(wind_covs)"
   ]
  },
  {
   "cell_type": "code",
   "execution_count": 33,
   "id": "7498077c",
   "metadata": {},
   "outputs": [
    {
     "data": {
      "text/plain": [
       "Index(['date', 'Price', 'temperature_2m (°C)', 'direct_radiation (W/m²)',\n",
       "       'diffuse_radiation (W/m²)', 'windspeed_10m (m/s)',\n",
       "       'windspeed_100m (m/s)'],\n",
       "      dtype='object')"
      ]
     },
     "execution_count": 33,
     "metadata": {},
     "output_type": "execute_result"
    }
   ],
   "source": [
    "df_total.columns"
   ]
  },
  {
   "cell_type": "code",
   "execution_count": null,
   "id": "aa4832c5",
   "metadata": {},
   "outputs": [],
   "source": [
    "covariance = np.cov(ts_price, ts_wind)[0][1]\n",
    "\n",
    "print(\"Covariance:\", covariance)"
   ]
  }
 ],
 "metadata": {
  "kernelspec": {
   "display_name": "Python 3 (ipykernel)",
   "language": "python",
   "name": "python3"
  },
  "language_info": {
   "codemirror_mode": {
    "name": "ipython",
    "version": 3
   },
   "file_extension": ".py",
   "mimetype": "text/x-python",
   "name": "python",
   "nbconvert_exporter": "python",
   "pygments_lexer": "ipython3",
   "version": "3.10.9"
  }
 },
 "nbformat": 4,
 "nbformat_minor": 5
}
