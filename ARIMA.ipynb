{
 "cells": [
  {
   "cell_type": "markdown",
   "id": "af4eb30b",
   "metadata": {},
   "source": [
    "referenced:\n",
    "\n",
    "https://www.kaggle.com/code/prashant111/arima-model-for-time-series-forecasting"
   ]
  },
  {
   "cell_type": "markdown",
   "id": "f3770cad",
   "metadata": {},
   "source": [
    "ARIMA, short for AutoRegressive Integrated Moving Average, is a forecasting algorithm based on the idea that the information in the past values of the time series can alone be used to predict the future values."
   ]
  },
  {
   "cell_type": "markdown",
   "id": "43daaa22",
   "metadata": {},
   "source": [
    "### The meaning of p, d and q in ARIMA model\n",
    "* AR(p) Autoregression : p is the order of the Auto Regressive (AR) term. It refers to the number of lags of Y to be used as predictors.\n",
    "* I(d) Integration : d is the minimum number of differencing needed to make the series stationary.\n",
    "* MA(q) Moving Average:  q is the order of the Moving Average (MA) term"
   ]
  },
  {
   "cell_type": "code",
   "execution_count": 1,
   "id": "5cb3afbe",
   "metadata": {},
   "outputs": [],
   "source": [
    "import pandas as pd\n",
    "import numpy as np\n",
    "from darts import TimeSeries\n",
    "# \n",
    "from statsmodels.tsa.stattools import adfuller\n",
    "from numpy import log\n",
    "from statsmodels.graphics.tsaplots import plot_acf, plot_pacf\n",
    "import matplotlib.pyplot as plt"
   ]
  },
  {
   "cell_type": "code",
   "execution_count": 51,
   "id": "cca9b721",
   "metadata": {},
   "outputs": [],
   "source": [
    "import pandas as pd\n",
    "import numpy as np\n",
    "from darts import TimeSeries\n",
    "    \n",
    "# Load the electric dataset(CSV) into a Pandas DataFrame\n",
    "df_el = pd.read_csv('el_price.csv', sep = ';')\n",
    "# Select the desired columns\n",
    "df_el = df_el[['MTU (CET/CEST)', 'Day-ahead Price [EUR/MWh]']]\n",
    "\n",
    "# Rename the columns\n",
    "df_el = df_el.rename(columns={'MTU (CET/CEST)': 'date', 'Day-ahead Price [EUR/MWh]': 'price'})\n",
    "\n",
    "# Extract the first 16 characters from the 'date' column\n",
    "df_el['date'] = df_el['date'].apply(lambda x: x[0:16])\n",
    "    \n",
    "# Interpolate missing values in the 'price' column using linear method\n",
    "df_el['price'].interpolate(method='linear', inplace=True)\n",
    "\n",
    "# ts = TimeSeries.from_dataframe(df_el, time_col='date', value_cols = 'price', fill_missing_dates=True, freq= None)"
   ]
  },
  {
   "cell_type": "code",
   "execution_count": 52,
   "id": "98dae262",
   "metadata": {},
   "outputs": [
    {
     "name": "stdout",
     "output_type": "stream",
     "text": [
      "<TimeSeries (DataArray) (time: 3336, component: 1, sample: 1)>\n",
      "array([[[nan]],\n",
      "\n",
      "       [[nan]],\n",
      "\n",
      "       [[nan]],\n",
      "\n",
      "       ...,\n",
      "\n",
      "       [[nan]],\n",
      "\n",
      "       [[nan]],\n",
      "\n",
      "       [[nan]]])\n",
      "Coordinates:\n",
      "  * time       (time) datetime64[ns] 2023-01-05 ... 2023-05-23T23:00:00\n",
      "  * component  (component) object 'price'\n",
      "Dimensions without coordinates: sample\n",
      "Attributes:\n",
      "    static_covariates:  None\n",
      "    hierarchy:          None\n"
     ]
    }
   ],
   "source": [
    "\n",
    "# Define the start and end timestamps for your desired time range\n",
    "start_timestamp = '01.05.2023 00:00'\n",
    "end_timestamp = '23.05.2023 23:00'\n",
    "\n",
    "# Generate the timestamps using pd.date_range\n",
    "timestamps = pd.date_range(start=start_timestamp, end=end_timestamp, freq='H')  # 'H' for hourly frequency\n",
    "\n",
    "# Create a DataFrame with the timestamps as the index\n",
    "df = pd.DataFrame(index=timestamps)\n",
    "\n",
    "# Fill the DataFrame with the desired values (replace 'value' with your actual column name)\n",
    "df['price'] = df_el['price'] # Replace ... with the values corresponding to each timestamp\n",
    "\n",
    "# Convert DataFrame to TimeSeries\n",
    "time_series = TimeSeries.from_dataframe(df, time_col=df.index.name, value_cols='price')\n",
    "\n",
    "# Verify the resulting time series\n",
    "print(time_series)\n"
   ]
  },
  {
   "cell_type": "code",
   "execution_count": 43,
   "id": "91b6b36e",
   "metadata": {},
   "outputs": [],
   "source": [
    "df_el.set_index('date', inplace=True)"
   ]
  },
  {
   "cell_type": "code",
   "execution_count": 44,
   "id": "d2893902",
   "metadata": {},
   "outputs": [],
   "source": [
    "# split data\n",
    "train = df_el.loc[:'01.05.2023 00:00']\n",
    "test = df_el.loc['01.05.2023 00:00':'23.05.2023 23:00']"
   ]
  },
  {
   "cell_type": "code",
   "execution_count": 45,
   "id": "f3810f83",
   "metadata": {},
   "outputs": [
    {
     "data": {
      "text/html": [
       "<div>\n",
       "<style scoped>\n",
       "    .dataframe tbody tr th:only-of-type {\n",
       "        vertical-align: middle;\n",
       "    }\n",
       "\n",
       "    .dataframe tbody tr th {\n",
       "        vertical-align: top;\n",
       "    }\n",
       "\n",
       "    .dataframe thead th {\n",
       "        text-align: right;\n",
       "    }\n",
       "</style>\n",
       "<table border=\"1\" class=\"dataframe\">\n",
       "  <thead>\n",
       "    <tr style=\"text-align: right;\">\n",
       "      <th></th>\n",
       "      <th>price</th>\n",
       "    </tr>\n",
       "    <tr>\n",
       "      <th>date</th>\n",
       "      <th></th>\n",
       "    </tr>\n",
       "  </thead>\n",
       "  <tbody>\n",
       "    <tr>\n",
       "      <th>01.01.2023 00:00</th>\n",
       "      <td>201.0</td>\n",
       "    </tr>\n",
       "    <tr>\n",
       "      <th>01.01.2023 01:00</th>\n",
       "      <td>138.0</td>\n",
       "    </tr>\n",
       "    <tr>\n",
       "      <th>01.01.2023 02:00</th>\n",
       "      <td>9.0</td>\n",
       "    </tr>\n",
       "    <tr>\n",
       "      <th>01.01.2023 03:00</th>\n",
       "      <td>8.0</td>\n",
       "    </tr>\n",
       "    <tr>\n",
       "      <th>01.01.2023 04:00</th>\n",
       "      <td>5.0</td>\n",
       "    </tr>\n",
       "    <tr>\n",
       "      <th>...</th>\n",
       "      <td>...</td>\n",
       "    </tr>\n",
       "    <tr>\n",
       "      <th>30.04.2023 20:00</th>\n",
       "      <td>12360.0</td>\n",
       "    </tr>\n",
       "    <tr>\n",
       "      <th>30.04.2023 21:00</th>\n",
       "      <td>12220.0</td>\n",
       "    </tr>\n",
       "    <tr>\n",
       "      <th>30.04.2023 22:00</th>\n",
       "      <td>11712.0</td>\n",
       "    </tr>\n",
       "    <tr>\n",
       "      <th>30.04.2023 23:00</th>\n",
       "      <td>10871.0</td>\n",
       "    </tr>\n",
       "    <tr>\n",
       "      <th>01.05.2023 00:00</th>\n",
       "      <td>10990.0</td>\n",
       "    </tr>\n",
       "  </tbody>\n",
       "</table>\n",
       "<p>2881 rows × 1 columns</p>\n",
       "</div>"
      ],
      "text/plain": [
       "                    price\n",
       "date                     \n",
       "01.01.2023 00:00    201.0\n",
       "01.01.2023 01:00    138.0\n",
       "01.01.2023 02:00      9.0\n",
       "01.01.2023 03:00      8.0\n",
       "01.01.2023 04:00      5.0\n",
       "...                   ...\n",
       "30.04.2023 20:00  12360.0\n",
       "30.04.2023 21:00  12220.0\n",
       "30.04.2023 22:00  11712.0\n",
       "30.04.2023 23:00  10871.0\n",
       "01.05.2023 00:00  10990.0\n",
       "\n",
       "[2881 rows x 1 columns]"
      ]
     },
     "execution_count": 45,
     "metadata": {},
     "output_type": "execute_result"
    }
   ],
   "source": [
    "train"
   ]
  },
  {
   "cell_type": "code",
   "execution_count": 46,
   "id": "36675647",
   "metadata": {
    "scrolled": false
   },
   "outputs": [
    {
     "data": {
      "text/html": [
       "<div>\n",
       "<style scoped>\n",
       "    .dataframe tbody tr th:only-of-type {\n",
       "        vertical-align: middle;\n",
       "    }\n",
       "\n",
       "    .dataframe tbody tr th {\n",
       "        vertical-align: top;\n",
       "    }\n",
       "\n",
       "    .dataframe thead th {\n",
       "        text-align: right;\n",
       "    }\n",
       "</style>\n",
       "<table border=\"1\" class=\"dataframe\">\n",
       "  <thead>\n",
       "    <tr style=\"text-align: right;\">\n",
       "      <th></th>\n",
       "      <th>price</th>\n",
       "    </tr>\n",
       "    <tr>\n",
       "      <th>date</th>\n",
       "      <th></th>\n",
       "    </tr>\n",
       "  </thead>\n",
       "  <tbody>\n",
       "    <tr>\n",
       "      <th>01.05.2023 00:00</th>\n",
       "      <td>10990.0</td>\n",
       "    </tr>\n",
       "    <tr>\n",
       "      <th>01.05.2023 01:00</th>\n",
       "      <td>9990.0</td>\n",
       "    </tr>\n",
       "    <tr>\n",
       "      <th>01.05.2023 02:00</th>\n",
       "      <td>9549.0</td>\n",
       "    </tr>\n",
       "    <tr>\n",
       "      <th>01.05.2023 03:00</th>\n",
       "      <td>8998.0</td>\n",
       "    </tr>\n",
       "    <tr>\n",
       "      <th>01.05.2023 04:00</th>\n",
       "      <td>8729.0</td>\n",
       "    </tr>\n",
       "    <tr>\n",
       "      <th>...</th>\n",
       "      <td>...</td>\n",
       "    </tr>\n",
       "    <tr>\n",
       "      <th>23.05.2023 19:00</th>\n",
       "      <td>6888.0</td>\n",
       "    </tr>\n",
       "    <tr>\n",
       "      <th>23.05.2023 20:00</th>\n",
       "      <td>6949.0</td>\n",
       "    </tr>\n",
       "    <tr>\n",
       "      <th>23.05.2023 21:00</th>\n",
       "      <td>7066.0</td>\n",
       "    </tr>\n",
       "    <tr>\n",
       "      <th>23.05.2023 22:00</th>\n",
       "      <td>7079.0</td>\n",
       "    </tr>\n",
       "    <tr>\n",
       "      <th>23.05.2023 23:00</th>\n",
       "      <td>6573.0</td>\n",
       "    </tr>\n",
       "  </tbody>\n",
       "</table>\n",
       "<p>552 rows × 1 columns</p>\n",
       "</div>"
      ],
      "text/plain": [
       "                    price\n",
       "date                     \n",
       "01.05.2023 00:00  10990.0\n",
       "01.05.2023 01:00   9990.0\n",
       "01.05.2023 02:00   9549.0\n",
       "01.05.2023 03:00   8998.0\n",
       "01.05.2023 04:00   8729.0\n",
       "...                   ...\n",
       "23.05.2023 19:00   6888.0\n",
       "23.05.2023 20:00   6949.0\n",
       "23.05.2023 21:00   7066.0\n",
       "23.05.2023 22:00   7079.0\n",
       "23.05.2023 23:00   6573.0\n",
       "\n",
       "[552 rows x 1 columns]"
      ]
     },
     "execution_count": 46,
     "metadata": {},
     "output_type": "execute_result"
    }
   ],
   "source": [
    "test"
   ]
  },
  {
   "cell_type": "code",
   "execution_count": 34,
   "id": "bd396259",
   "metadata": {},
   "outputs": [],
   "source": [
    "from darts import TimeSeries\n",
    "\n",
    "# Assuming your DataFrame is named 'df' and has a column named 'time' representing the timestamps and a column named 'value' representing the values\n",
    "time_col = 'date'\n",
    "value_cols = ['price']\n",
    "\n",
    "# Convert DataFrame to TimeSeries\n",
    "train_ts = TimeSeries.from_dataframe(df_el, time_col=time_col, value_cols=value_cols, fill_missing_dates=True, freq=None)\n"
   ]
  },
  {
   "cell_type": "code",
   "execution_count": 35,
   "id": "ad884218",
   "metadata": {
    "scrolled": true
   },
   "outputs": [
    {
     "data": {
      "image/png": "[encoded data removed]",
      "text/plain": [
       "<Figure size 640x480 with 1 Axes>"
      ]
     },
     "metadata": {},
     "output_type": "display_data"
    }
   ],
   "source": [
    "train_ts.plot()"
   ]
  },
  {
   "cell_type": "code",
   "execution_count": 39,
   "id": "2ba5bbb1",
   "metadata": {},
   "outputs": [],
   "source": [
    "from darts import TimeSeries\n",
    "\n",
    "# Assuming your DataFrame is named 'df' and has a column named 'date' representing the timestamps and a column named 'price' representing the values\n",
    "time_col = 'date'\n",
    "value_cols = ['price']\n",
    "\n",
    "# Convert DataFrame to TimeSeries without filling missing dates\n",
    "train_ts = TimeSeries.from_dataframe(df_el, time_col=time_col, value_cols=value_cols, fill_missing_dates=False, freq='H')\n"
   ]
  },
  {
   "cell_type": "code",
   "execution_count": 40,
   "id": "580933a1",
   "metadata": {},
   "outputs": [
    {
     "data": {
      "image/png": "[encoded data removed]",
      "text/plain": [
       "<Figure size 640x480 with 1 Axes>"
      ]
     },
     "metadata": {},
     "output_type": "display_data"
    }
   ],
   "source": [
    "train_ts.plot()"
   ]
  },
  {
   "cell_type": "code",
   "execution_count": 32,
   "id": "8b333b75",
   "metadata": {},
   "outputs": [
    {
     "name": "stderr",
     "output_type": "stream",
     "text": [
      "ValueError: Input time series must be of (length>=3) when fill_missing_dates=True and freq=None.\n"
     ]
    },
    {
     "ename": "ValueError",
     "evalue": "Input time series must be of (length>=3) when fill_missing_dates=True and freq=None.",
     "output_type": "error",
     "traceback": [
      "\u001b[1;31m---------------------------------------------------------------------------\u001b[0m",
      "\u001b[1;31mValueError\u001b[0m                                Traceback (most recent call last)",
      "Cell \u001b[1;32mIn[32], line 1\u001b[0m\n\u001b[1;32m----> 1\u001b[0m ts_train \u001b[38;5;241m=\u001b[39m \u001b[43mTimeSeries\u001b[49m\u001b[38;5;241;43m.\u001b[39;49m\u001b[43mfrom_dataframe\u001b[49m\u001b[43m(\u001b[49m\u001b[43mtrain\u001b[49m\u001b[43m,\u001b[49m\u001b[43m \u001b[49m\u001b[43mtime_col\u001b[49m\u001b[38;5;241;43m=\u001b[39;49m\u001b[38;5;124;43m'\u001b[39;49m\u001b[38;5;124;43mdate\u001b[39;49m\u001b[38;5;124;43m'\u001b[39;49m\u001b[43m,\u001b[49m\u001b[43m \u001b[49m\u001b[43mvalue_cols\u001b[49m\u001b[43m \u001b[49m\u001b[38;5;241;43m=\u001b[39;49m\u001b[43m \u001b[49m\u001b[38;5;124;43m'\u001b[39;49m\u001b[38;5;124;43mprice\u001b[39;49m\u001b[38;5;124;43m'\u001b[39;49m\u001b[43m,\u001b[49m\u001b[43m \u001b[49m\u001b[43mfill_missing_dates\u001b[49m\u001b[38;5;241;43m=\u001b[39;49m\u001b[38;5;28;43;01mTrue\u001b[39;49;00m\u001b[43m,\u001b[49m\u001b[43m \u001b[49m\u001b[43mfreq\u001b[49m\u001b[38;5;241;43m=\u001b[39;49m\u001b[38;5;28;43;01mNone\u001b[39;49;00m\u001b[43m)\u001b[49m\n",
      "File \u001b[1;32m~\\anaconda3\\lib\\site-packages\\darts\\timeseries.py:714\u001b[0m, in \u001b[0;36mTimeSeries.from_dataframe\u001b[1;34m(cls, df, time_col, value_cols, fill_missing_dates, freq, fillna_value, static_covariates, hierarchy)\u001b[0m\n\u001b[0;32m    705\u001b[0m     time_index\u001b[38;5;241m.\u001b[39mname \u001b[38;5;241m=\u001b[39m time_col \u001b[38;5;28;01mif\u001b[39;00m time_col \u001b[38;5;28;01melse\u001b[39;00m DIMS[\u001b[38;5;241m0\u001b[39m]\n\u001b[0;32m    707\u001b[0m xa \u001b[38;5;241m=\u001b[39m xr\u001b[38;5;241m.\u001b[39mDataArray(\n\u001b[0;32m    708\u001b[0m     series_df\u001b[38;5;241m.\u001b[39mvalues[:, :, np\u001b[38;5;241m.\u001b[39mnewaxis],\n\u001b[0;32m    709\u001b[0m     dims\u001b[38;5;241m=\u001b[39m(time_index\u001b[38;5;241m.\u001b[39mname,) \u001b[38;5;241m+\u001b[39m DIMS[\u001b[38;5;241m-\u001b[39m\u001b[38;5;241m2\u001b[39m:],\n\u001b[0;32m    710\u001b[0m     coords\u001b[38;5;241m=\u001b[39m{time_index\u001b[38;5;241m.\u001b[39mname: time_index, DIMS[\u001b[38;5;241m1\u001b[39m]: series_df\u001b[38;5;241m.\u001b[39mcolumns},\n\u001b[0;32m    711\u001b[0m     attrs\u001b[38;5;241m=\u001b[39m{STATIC_COV_TAG: static_covariates, HIERARCHY_TAG: hierarchy},\n\u001b[0;32m    712\u001b[0m )\n\u001b[1;32m--> 714\u001b[0m \u001b[38;5;28;01mreturn\u001b[39;00m \u001b[38;5;28;43mcls\u001b[39;49m\u001b[38;5;241;43m.\u001b[39;49m\u001b[43mfrom_xarray\u001b[49m\u001b[43m(\u001b[49m\n\u001b[0;32m    715\u001b[0m \u001b[43m    \u001b[49m\u001b[43mxa\u001b[49m\u001b[38;5;241;43m=\u001b[39;49m\u001b[43mxa\u001b[49m\u001b[43m,\u001b[49m\n\u001b[0;32m    716\u001b[0m \u001b[43m    \u001b[49m\u001b[43mfill_missing_dates\u001b[49m\u001b[38;5;241;43m=\u001b[39;49m\u001b[43mfill_missing_dates\u001b[49m\u001b[43m,\u001b[49m\n\u001b[0;32m    717\u001b[0m \u001b[43m    \u001b[49m\u001b[43mfreq\u001b[49m\u001b[38;5;241;43m=\u001b[39;49m\u001b[43mfreq\u001b[49m\u001b[43m,\u001b[49m\n\u001b[0;32m    718\u001b[0m \u001b[43m    \u001b[49m\u001b[43mfillna_value\u001b[49m\u001b[38;5;241;43m=\u001b[39;49m\u001b[43mfillna_value\u001b[49m\u001b[43m,\u001b[49m\n\u001b[0;32m    719\u001b[0m \u001b[43m\u001b[49m\u001b[43m)\u001b[49m\n",
      "File \u001b[1;32m~\\anaconda3\\lib\\site-packages\\darts\\timeseries.py:372\u001b[0m, in \u001b[0;36mTimeSeries.from_xarray\u001b[1;34m(cls, xa, fill_missing_dates, freq, fillna_value)\u001b[0m\n\u001b[0;32m    370\u001b[0m \u001b[38;5;66;03m# optionally fill missing dates; do it only when there is a DatetimeIndex (and not a RangeIndex)\u001b[39;00m\n\u001b[0;32m    371\u001b[0m \u001b[38;5;28;01mif\u001b[39;00m fill_missing_dates:\n\u001b[1;32m--> 372\u001b[0m     xa_ \u001b[38;5;241m=\u001b[39m \u001b[38;5;28;43mcls\u001b[39;49m\u001b[38;5;241;43m.\u001b[39;49m\u001b[43m_fill_missing_dates\u001b[49m\u001b[43m(\u001b[49m\u001b[43mxa\u001b[49m\u001b[43m,\u001b[49m\u001b[43m \u001b[49m\u001b[43mfreq\u001b[49m\u001b[38;5;241;43m=\u001b[39;49m\u001b[43mfreq\u001b[49m\u001b[43m)\u001b[49m\n\u001b[0;32m    373\u001b[0m \u001b[38;5;66;03m# provided index does not have a freq; using the provided freq\u001b[39;00m\n\u001b[0;32m    374\u001b[0m \u001b[38;5;28;01melif\u001b[39;00m (\n\u001b[0;32m    375\u001b[0m     (has_datetime_index \u001b[38;5;129;01mor\u001b[39;00m has_integer_index)\n\u001b[0;32m    376\u001b[0m     \u001b[38;5;129;01mand\u001b[39;00m freq \u001b[38;5;129;01mis\u001b[39;00m \u001b[38;5;129;01mnot\u001b[39;00m \u001b[38;5;28;01mNone\u001b[39;00m\n\u001b[0;32m    377\u001b[0m     \u001b[38;5;129;01mand\u001b[39;00m \u001b[38;5;129;01mnot\u001b[39;00m has_frequency\n\u001b[0;32m    378\u001b[0m ):\n",
      "File \u001b[1;32m~\\anaconda3\\lib\\site-packages\\darts\\timeseries.py:4295\u001b[0m, in \u001b[0;36mTimeSeries._fill_missing_dates\u001b[1;34m(cls, xa, freq)\u001b[0m\n\u001b[0;32m   4292\u001b[0m \u001b[38;5;28;01mif\u001b[39;00m freq \u001b[38;5;129;01mis\u001b[39;00m \u001b[38;5;129;01mnot\u001b[39;00m \u001b[38;5;28;01mNone\u001b[39;00m:\n\u001b[0;32m   4293\u001b[0m     \u001b[38;5;28;01mreturn\u001b[39;00m \u001b[38;5;28mcls\u001b[39m\u001b[38;5;241m.\u001b[39m_restore_xarray_from_frequency(xa, freq)\n\u001b[1;32m-> 4295\u001b[0m \u001b[43mraise_if\u001b[49m\u001b[43m(\u001b[49m\n\u001b[0;32m   4296\u001b[0m \u001b[43m    \u001b[49m\u001b[38;5;28;43mlen\u001b[39;49m\u001b[43m(\u001b[49m\u001b[43mxa\u001b[49m\u001b[43m)\u001b[49m\u001b[43m \u001b[49m\u001b[38;5;241;43m<\u001b[39;49m\u001b[38;5;241;43m=\u001b[39;49m\u001b[43m \u001b[49m\u001b[38;5;241;43m2\u001b[39;49m\u001b[43m,\u001b[49m\n\u001b[0;32m   4297\u001b[0m \u001b[43m    \u001b[49m\u001b[38;5;124;43m\"\u001b[39;49m\u001b[38;5;124;43mInput time series must be of (length>=3) when fill_missing_dates=True and freq=None.\u001b[39;49m\u001b[38;5;124;43m\"\u001b[39;49m\u001b[43m,\u001b[49m\n\u001b[0;32m   4298\u001b[0m \u001b[43m    \u001b[49m\u001b[43mlogger\u001b[49m\u001b[43m,\u001b[49m\n\u001b[0;32m   4299\u001b[0m \u001b[43m\u001b[49m\u001b[43m)\u001b[49m\n\u001b[0;32m   4301\u001b[0m time_dim \u001b[38;5;241m=\u001b[39m xa\u001b[38;5;241m.\u001b[39mdims[\u001b[38;5;241m0\u001b[39m]\n\u001b[0;32m   4302\u001b[0m sorted_xa \u001b[38;5;241m=\u001b[39m \u001b[38;5;28mcls\u001b[39m\u001b[38;5;241m.\u001b[39m_sort_index(xa, copy\u001b[38;5;241m=\u001b[39m\u001b[38;5;28;01mFalse\u001b[39;00m)\n",
      "File \u001b[1;32m~\\anaconda3\\lib\\site-packages\\darts\\logging.py:104\u001b[0m, in \u001b[0;36mraise_if\u001b[1;34m(condition, message, logger)\u001b[0m\n\u001b[0;32m     81\u001b[0m \u001b[38;5;28;01mdef\u001b[39;00m \u001b[38;5;21mraise_if\u001b[39m(\n\u001b[0;32m     82\u001b[0m     condition: \u001b[38;5;28mbool\u001b[39m,\n\u001b[0;32m     83\u001b[0m     message: \u001b[38;5;28mstr\u001b[39m \u001b[38;5;241m=\u001b[39m \u001b[38;5;124m\"\u001b[39m\u001b[38;5;124m\"\u001b[39m,\n\u001b[0;32m     84\u001b[0m     logger: logging\u001b[38;5;241m.\u001b[39mLogger \u001b[38;5;241m=\u001b[39m get_logger(\u001b[38;5;124m\"\u001b[39m\u001b[38;5;124mmain_logger\u001b[39m\u001b[38;5;124m\"\u001b[39m),\n\u001b[0;32m     85\u001b[0m ):\n\u001b[0;32m     86\u001b[0m \u001b[38;5;250m    \u001b[39m\u001b[38;5;124;03m\"\"\"\u001b[39;00m\n\u001b[0;32m     87\u001b[0m \u001b[38;5;124;03m    Checks provided boolean condition and raises a ValueError if it evaluates to True.\u001b[39;00m\n\u001b[0;32m     88\u001b[0m \u001b[38;5;124;03m    It logs the error to the provided logger before raising it.\u001b[39;00m\n\u001b[1;32m   (...)\u001b[0m\n\u001b[0;32m    102\u001b[0m \u001b[38;5;124;03m        if `condition` is satisfied\u001b[39;00m\n\u001b[0;32m    103\u001b[0m \u001b[38;5;124;03m    \"\"\"\u001b[39;00m\n\u001b[1;32m--> 104\u001b[0m     \u001b[43mraise_if_not\u001b[49m\u001b[43m(\u001b[49m\u001b[38;5;129;43;01mnot\u001b[39;49;00m\u001b[43m \u001b[49m\u001b[43mcondition\u001b[49m\u001b[43m,\u001b[49m\u001b[43m \u001b[49m\u001b[43mmessage\u001b[49m\u001b[43m,\u001b[49m\u001b[43m \u001b[49m\u001b[43mlogger\u001b[49m\u001b[43m)\u001b[49m\n",
      "File \u001b[1;32m~\\anaconda3\\lib\\site-packages\\darts\\logging.py:78\u001b[0m, in \u001b[0;36mraise_if_not\u001b[1;34m(condition, message, logger)\u001b[0m\n\u001b[0;32m     76\u001b[0m \u001b[38;5;28;01mif\u001b[39;00m \u001b[38;5;129;01mnot\u001b[39;00m condition:\n\u001b[0;32m     77\u001b[0m     logger\u001b[38;5;241m.\u001b[39merror(\u001b[38;5;124m\"\u001b[39m\u001b[38;5;124mValueError: \u001b[39m\u001b[38;5;124m\"\u001b[39m \u001b[38;5;241m+\u001b[39m message)\n\u001b[1;32m---> 78\u001b[0m     \u001b[38;5;28;01mraise\u001b[39;00m \u001b[38;5;167;01mValueError\u001b[39;00m(message)\n",
      "\u001b[1;31mValueError\u001b[0m: Input time series must be of (length>=3) when fill_missing_dates=True and freq=None."
     ]
    }
   ],
   "source": [
    "ts_train = TimeSeries.from_dataframe(train, time_col='date', value_cols = 'price', fill_missing_dates=True, freq=None)"
   ]
  },
  {
   "cell_type": "code",
   "execution_count": 16,
   "id": "3ac749be",
   "metadata": {},
   "outputs": [],
   "source": [
    "X_train = train.drop('price', axis=1)\n",
    "y_train = train['price']\n",
    "X_test = test.drop('price', axis=1)\n",
    "y_test = test['price']"
   ]
  },
  {
   "cell_type": "code",
   "execution_count": 24,
   "id": "f48e23b6",
   "metadata": {},
   "outputs": [
    {
     "name": "stderr",
     "output_type": "stream",
     "text": [
      "ValueError: If time_col is not specified, the DataFrame must be indexed either with a DatetimeIndex, a RangeIndex, or an integer Index that can be converted into a RangeIndex\n"
     ]
    },
    {
     "ename": "ValueError",
     "evalue": "If time_col is not specified, the DataFrame must be indexed either with a DatetimeIndex, a RangeIndex, or an integer Index that can be converted into a RangeIndex",
     "output_type": "error",
     "traceback": [
      "\u001b[1;31m---------------------------------------------------------------------------\u001b[0m",
      "\u001b[1;31mValueError\u001b[0m                                Traceback (most recent call last)",
      "Cell \u001b[1;32mIn[24], line 7\u001b[0m\n\u001b[0;32m      4\u001b[0m \u001b[38;5;28;01mfrom\u001b[39;00m \u001b[38;5;21;01mdarts\u001b[39;00m\u001b[38;5;21;01m.\u001b[39;00m\u001b[38;5;21;01mmodels\u001b[39;00m \u001b[38;5;28;01mimport\u001b[39;00m ExponentialSmoothing\n\u001b[0;32m      6\u001b[0m \u001b[38;5;66;03m# Assuming your 'train' DataFrame has a single column named 'value'\u001b[39;00m\n\u001b[1;32m----> 7\u001b[0m train_series \u001b[38;5;241m=\u001b[39m \u001b[43mTimeSeries\u001b[49m\u001b[38;5;241;43m.\u001b[39;49m\u001b[43mfrom_dataframe\u001b[49m\u001b[43m(\u001b[49m\u001b[43mtrain\u001b[49m\u001b[43m,\u001b[49m\u001b[43m \u001b[49m\u001b[43mvalue_cols\u001b[49m\u001b[38;5;241;43m=\u001b[39;49m\u001b[38;5;124;43m'\u001b[39;49m\u001b[38;5;124;43mprice\u001b[39;49m\u001b[38;5;124;43m'\u001b[39;49m\u001b[43m)\u001b[49m\n\u001b[0;32m      9\u001b[0m model \u001b[38;5;241m=\u001b[39m ExponentialSmoothing()\n\u001b[0;32m     10\u001b[0m model\u001b[38;5;241m.\u001b[39mfit(train_series)\n",
      "File \u001b[1;32m~\\anaconda3\\lib\\site-packages\\darts\\timeseries.py:682\u001b[0m, in \u001b[0;36mTimeSeries.from_dataframe\u001b[1;34m(cls, df, time_col, value_cols, fill_missing_dates, freq, fillna_value, static_covariates, hierarchy)\u001b[0m\n\u001b[0;32m    680\u001b[0m     time_index\u001b[38;5;241m.\u001b[39mname \u001b[38;5;241m=\u001b[39m time_col\n\u001b[0;32m    681\u001b[0m \u001b[38;5;28;01melse\u001b[39;00m:\n\u001b[1;32m--> 682\u001b[0m     \u001b[43mraise_if_not\u001b[49m\u001b[43m(\u001b[49m\n\u001b[0;32m    683\u001b[0m \u001b[43m        \u001b[49m\u001b[38;5;28;43misinstance\u001b[39;49m\u001b[43m(\u001b[49m\u001b[43mdf\u001b[49m\u001b[38;5;241;43m.\u001b[39;49m\u001b[43mindex\u001b[49m\u001b[43m,\u001b[49m\u001b[43m \u001b[49m\u001b[43mVALID_INDEX_TYPES\u001b[49m\u001b[43m)\u001b[49m\n\u001b[0;32m    684\u001b[0m \u001b[43m        \u001b[49m\u001b[38;5;129;43;01mor\u001b[39;49;00m\u001b[43m \u001b[49m\u001b[43mnp\u001b[49m\u001b[38;5;241;43m.\u001b[39;49m\u001b[43missubdtype\u001b[49m\u001b[43m(\u001b[49m\u001b[43mdf\u001b[49m\u001b[38;5;241;43m.\u001b[39;49m\u001b[43mindex\u001b[49m\u001b[38;5;241;43m.\u001b[39;49m\u001b[43mdtype\u001b[49m\u001b[43m,\u001b[49m\u001b[43m \u001b[49m\u001b[43mnp\u001b[49m\u001b[38;5;241;43m.\u001b[39;49m\u001b[43minteger\u001b[49m\u001b[43m)\u001b[49m\u001b[43m,\u001b[49m\n\u001b[0;32m    685\u001b[0m \u001b[43m        \u001b[49m\u001b[38;5;124;43m\"\u001b[39;49m\u001b[38;5;124;43mIf time_col is not specified, the DataFrame must be indexed either with \u001b[39;49m\u001b[38;5;124;43m\"\u001b[39;49m\n\u001b[0;32m    686\u001b[0m \u001b[43m        \u001b[49m\u001b[38;5;124;43m\"\u001b[39;49m\u001b[38;5;124;43ma DatetimeIndex, a RangeIndex, or an integer Index that can be converted into a RangeIndex\u001b[39;49m\u001b[38;5;124;43m\"\u001b[39;49m\u001b[43m,\u001b[49m\n\u001b[0;32m    687\u001b[0m \u001b[43m        \u001b[49m\u001b[43mlogger\u001b[49m\u001b[43m,\u001b[49m\n\u001b[0;32m    688\u001b[0m \u001b[43m    \u001b[49m\u001b[43m)\u001b[49m\n\u001b[0;32m    689\u001b[0m     \u001b[38;5;66;03m# BUGFIX : force time-index to be timezone naive as xarray doesn't support it\u001b[39;00m\n\u001b[0;32m    690\u001b[0m     \u001b[38;5;66;03m# pandas.DataFrame loses the tz information if it's not its index\u001b[39;00m\n\u001b[0;32m    691\u001b[0m     \u001b[38;5;28;01mif\u001b[39;00m \u001b[38;5;28misinstance\u001b[39m(df\u001b[38;5;241m.\u001b[39mindex, pd\u001b[38;5;241m.\u001b[39mDatetimeIndex) \u001b[38;5;129;01mand\u001b[39;00m df\u001b[38;5;241m.\u001b[39mindex\u001b[38;5;241m.\u001b[39mtz \u001b[38;5;129;01mis\u001b[39;00m \u001b[38;5;129;01mnot\u001b[39;00m \u001b[38;5;28;01mNone\u001b[39;00m:\n",
      "File \u001b[1;32m~\\anaconda3\\lib\\site-packages\\darts\\logging.py:78\u001b[0m, in \u001b[0;36mraise_if_not\u001b[1;34m(condition, message, logger)\u001b[0m\n\u001b[0;32m     76\u001b[0m \u001b[38;5;28;01mif\u001b[39;00m \u001b[38;5;129;01mnot\u001b[39;00m condition:\n\u001b[0;32m     77\u001b[0m     logger\u001b[38;5;241m.\u001b[39merror(\u001b[38;5;124m\"\u001b[39m\u001b[38;5;124mValueError: \u001b[39m\u001b[38;5;124m\"\u001b[39m \u001b[38;5;241m+\u001b[39m message)\n\u001b[1;32m---> 78\u001b[0m     \u001b[38;5;28;01mraise\u001b[39;00m \u001b[38;5;167;01mValueError\u001b[39;00m(message)\n",
      "\u001b[1;31mValueError\u001b[0m: If time_col is not specified, the DataFrame must be indexed either with a DatetimeIndex, a RangeIndex, or an integer Index that can be converted into a RangeIndex"
     ]
    }
   ],
   "source": [
    "# ts = TimeSeries.from_dataframe(df_el, time_col='date', value_cols = 'price', fill_missing_dates=True, freq= None)\n",
    "\n",
    "from darts import TimeSeries\n",
    "from darts.models import ExponentialSmoothing\n",
    "\n",
    "# Assuming your 'train' DataFrame has a single column named 'value'\n",
    "train_series = TimeSeries.from_dataframe(train, value_cols='price')\n",
    "\n",
    "model = ExponentialSmoothing()\n",
    "model.fit(train_series)\n",
    "\n",
    "# Assuming your 'test' DataFrame has the same structure as 'train'\n",
    "test_series = TimeSeries.from_dataframe(test, value_cols='price')\n",
    "prediction = model.predict(len(test_series))"
   ]
  },
  {
   "cell_type": "code",
   "execution_count": 23,
   "id": "af3de14d",
   "metadata": {},
   "outputs": [],
   "source": [
    "#ts = TimeSeries.from_dataframe(df_el, time_col='date', value_cols = 'price', fill_missing_dates=True, freq= None)"
   ]
  },
  {
   "cell_type": "code",
   "execution_count": 7,
   "id": "208e12b6",
   "metadata": {
    "scrolled": false
   },
   "outputs": [],
   "source": [
    "X_train = train.drop('price', axis=1)\n",
    "y_train = train['price']\n",
    "X_test = test.drop('price', axis=1)\n",
    "y_test = test['price']"
   ]
  },
  {
   "cell_type": "markdown",
   "id": "50a6a926",
   "metadata": {},
   "source": [
    "First, I will check if the series is stationary using the Augmented Dickey Fuller test (ADF Test) from the stats models package. The reason is that we need differencing only if the series is non-stationary. Else, no differencing is needed, that is, d=0.\n",
    "\n",
    "The null hypothesis (Ho) of the ADF test is that the time series is non-stationary. So, if the p-value of the test is less than the significance level (0.05) then we reject the null hypothesis and infer that the time series is indeed stationary.\n",
    "\n",
    "so we assume, our data is stationary! our p-value is 0"
   ]
  },
  {
   "cell_type": "code",
   "execution_count": null,
   "id": "1d55e469",
   "metadata": {},
   "outputs": [],
   "source": [
    "from statsmodels.tsa.stattools import adfuller\n",
    "from numpy import log\n",
    "\n",
    "df_el['date'] = pd.to_numeric(df_el['date'], errors='coerce')\n",
    "\n",
    "result = adfuller(df_el['price'])\n",
    "print('ADF Statistic: %f' % result[0])\n",
    "print('p-value: %f' % result[1])"
   ]
  },
  {
   "cell_type": "markdown",
   "id": "731a6c78",
   "metadata": {},
   "source": [
    "### find out AR(p) Autoregression\n",
    "\n",
    "#### P = 1"
   ]
  },
  {
   "cell_type": "code",
   "execution_count": null,
   "id": "3b2098a6",
   "metadata": {},
   "outputs": [],
   "source": [
    "# PACF plot of 1st differenced series\n",
    "#plt.rcParams.update({'figure.figsize':(9,3), 'figure.dpi':120})\n",
    "\n",
    "#plt.plot(df_el.price.diff())\n",
    "#plt.show()\n",
    "\n",
    "# PACF plot of 1st differenced series\n",
    "plt.rcParams.update({'figure.figsize':(9,3), 'figure.dpi':120})\n",
    "\n",
    "fig, axes = plt.subplots(1, 2, sharex=True)\n",
    "axes[0].plot(df_el.price.diff())\n",
    "axes[1].set(ylim=(0,5))\n",
    "plot_pacf(df_el.price.diff(), ax=axes[1])\n",
    "\n",
    "plt.show()"
   ]
  },
  {
   "cell_type": "markdown",
   "id": "a29533e3",
   "metadata": {},
   "source": [
    "We can see that the PACF lag 1 is quite significant since it is well above the significance line. So, we will fix the value of p as 1."
   ]
  },
  {
   "cell_type": "markdown",
   "id": "40a0478b",
   "metadata": {},
   "source": [
    "### find out q\n",
    "we will use q is o"
   ]
  },
  {
   "cell_type": "code",
   "execution_count": null,
   "id": "306ec344",
   "metadata": {
    "scrolled": true
   },
   "outputs": [],
   "source": [
    "from statsmodels.graphics.tsaplots import plot_acf, plot_pacf\n",
    "plt.rcParams.update({'figure.figsize':(9,3), 'figure.dpi':120})\n",
    "\n",
    "fig, axes = plt.subplots(1, 2, sharex=True)\n",
    "axes[0].plot(df_el.price.diff()); axes[0].set_title('1st Differencing')\n",
    "axes[1].set(ylim=(0,1.2))\n",
    "plot_acf(df_el.price.diff().dropna(), ax=axes[1])\n",
    "\n",
    "plt.show()"
   ]
  },
  {
   "cell_type": "code",
   "execution_count": 6,
   "id": "8453a4a8",
   "metadata": {},
   "outputs": [],
   "source": [
    "train, test = ts.split_before(pd.Timestamp(\"01.05.2023 00:00\"))"
   ]
  },
  {
   "cell_type": "code",
   "execution_count": 7,
   "id": "2c70dc1e",
   "metadata": {},
   "outputs": [],
   "source": [
    "train_1, test_1 = ts[:-1000], ts[-1000:]"
   ]
  },
  {
   "cell_type": "code",
   "execution_count": 8,
   "id": "ace52f33",
   "metadata": {},
   "outputs": [],
   "source": [
    "from darts.models import ARIMA\n",
    "\n",
    "# 1,1,2 ARIMA Model\n",
    "model = ARIMA(train, p=1, d=1, q=0, random_state=0, add_encoders=None)\n",
    "model_fit = model.fit(X_train, y_train)\n",
    "prediction = model.predict(len(test_1))"
   ]
  },
  {
   "cell_type": "code",
   "execution_count": 9,
   "id": "fcc510a9",
   "metadata": {},
   "outputs": [
    {
     "data": {
      "text/plain": [
       "<matplotlib.legend.Legend at 0x1dae5e5ba30>"
      ]
     },
     "execution_count": 9,
     "metadata": {},
     "output_type": "execute_result"
    },
    {
     "data": {
      "image/png": "[encoded data removed]",
      "text/plain": [
       "<Figure size 640x480 with 1 Axes>"
      ]
     },
     "metadata": {},
     "output_type": "display_data"
    }
   ],
   "source": [
    "ts.plot(label = 'actual')\n",
    "prediction.plot(label = 'forecast', lw = 10)\n",
    "plt.legend()"
   ]
  },
  {
   "cell_type": "code",
   "execution_count": null,
   "id": "6b3ca485",
   "metadata": {},
   "outputs": [],
   "source": [
    "from darts.models import AutoARIMA\n",
    "\n",
    "model_aarima = AutoARIMA()\n",
    "model_aarima.fit(train)\n",
    "prediction_aarima = model_aarima.predict(len(test))"
   ]
  },
  {
   "cell_type": "code",
   "execution_count": null,
   "id": "1f28c0b2",
   "metadata": {},
   "outputs": [],
   "source": [
    "ts.plot(label = 'actual')\n",
    "prediction_aarima.plot(label = 'forecast_auto_aarima', lw = 3)\n",
    "plt.legend()"
   ]
  },
  {
   "cell_type": "code",
   "execution_count": null,
   "id": "66979a04",
   "metadata": {
    "scrolled": true
   },
   "outputs": [],
   "source": [
    "from statsmodels.tsa.arima.model import ARIMA\n",
    "\n",
    "# 1,1,0 ARIMA Model\n",
    "model = ARIMA(df_el.price, order=(1,1,0))\n",
    "model_fit = model.fit()\n",
    "print(model_fit.summary())"
   ]
  },
  {
   "cell_type": "code",
   "execution_count": null,
   "id": "4a81fd68",
   "metadata": {},
   "outputs": [],
   "source": [
    "len(ts)"
   ]
  },
  {
   "cell_type": "code",
   "execution_count": null,
   "id": "38ad96e4",
   "metadata": {},
   "outputs": [],
   "source": [
    "# Get the predicted values\n",
    "predicted_values = model_fit.predict()\n",
    "\n",
    "# Plot the actual and predicted values\n",
    "plt.plot(ts, label='Actual')\n",
    "plt.plot(df_el.index, predicted_values, label='Predicted')\n",
    "plt.legend()\n",
    "plt.xlabel('Date')\n",
    "plt.ylabel('Price')\n",
    "plt.title('Actual vs Predicted')\n",
    "plt.show()"
   ]
  },
  {
   "cell_type": "code",
   "execution_count": null,
   "id": "e780452c",
   "metadata": {},
   "outputs": [],
   "source": []
  },
  {
   "cell_type": "code",
   "execution_count": null,
   "id": "2d3ea47e",
   "metadata": {},
   "outputs": [],
   "source": []
  },
  {
   "cell_type": "code",
   "execution_count": null,
   "id": "e6e9a1ff",
   "metadata": {},
   "outputs": [],
   "source": []
  }
 ],
 "metadata": {
  "kernelspec": {
   "display_name": "Python 3 (ipykernel)",
   "language": "python",
   "name": "python3"
  },
  "language_info": {
   "codemirror_mode": {
    "name": "ipython",
    "version": 3
   },
   "file_extension": ".py",
   "mimetype": "text/x-python",
   "name": "python",
   "nbconvert_exporter": "python",
   "pygments_lexer": "ipython3",
   "version": "3.10.9"
  }
 },
 "nbformat": 4,
 "nbformat_minor": 5
}
