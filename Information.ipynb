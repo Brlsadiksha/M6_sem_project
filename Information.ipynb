{
 "cells": [
  {
   "cell_type": "markdown",
   "id": "43d6ae32",
   "metadata": {},
   "source": [
    "- What’s the project idea and why?\n",
    ": \n",
    "ML part:\n",
    "\n",
    "Business part\n",
    "MLOps part\n",
    "Highly recommend to check out the project slides I posted on teams\n",
    "Perhaps also check out the union ml project. "
   ]
  },
  {
   "cell_type": "markdown",
   "id": "8914b01d",
   "metadata": {},
   "source": [
    "### How determine the Electric price of Denmark?"
   ]
  },
  {
   "cell_type": "markdown",
   "id": "3daf1aa5",
   "metadata": {},
   "source": [
    "- The electric price in Denmark is determined by several factors such as supply and demand, fuel prices, infrastructure costs, and government policies, consumption, location, and other factors.."
   ]
  },
  {
   "cell_type": "markdown",
   "id": "6c55d2c0",
   "metadata": {},
   "source": [
    "- we should check these websites : Ørsted, E.ON, and Vattenfall, Danish Energy Agency"
   ]
  },
  {
   "cell_type": "markdown",
   "id": "0993256d",
   "metadata": {},
   "source": [
    "### Which parameter we need to figure out the relationship between weather and el price?"
   ]
  },
  {
   "cell_type": "markdown",
   "id": "a0e938c0",
   "metadata": {},
   "source": [
    "- temperature, Humidity, Wind Speed, precipitation, sunlight, fuel price, infrastructure cost, goverment policy. but we will focus on the weather parameters."
   ]
  },
  {
   "cell_type": "markdown",
   "id": "51ea6385",
   "metadata": {},
   "source": [
    "### How can we gather the needed data?"
   ]
  },
  {
   "cell_type": "markdown",
   "id": "e0544d03",
   "metadata": {},
   "source": [
    "- Weather data:https://open-meteo.com/en/docs/historical-weather-api\n",
    "- Demand: https://www.energidataservice.dk (very useful API)\n",
    "- Electricity price: data:https://www.energidataservice.dk/tso-electricity/Elspotprices?fbclid=IwAR1f7B2AcHP9fT21CKEV8J5NjpxbFZLSIuTO31FAmJYRHWqleOJ8P-XNuZw"
   ]
  },
  {
   "cell_type": "markdown",
   "id": "601a6378",
   "metadata": {},
   "source": [
    "### Which analysis we need?"
   ]
  },
  {
   "cell_type": "markdown",
   "id": "ae507c0d",
   "metadata": {},
   "source": [
    "- define the data detail: \n",
    "* region: Western area in Denmark\n",
    "* period : 2021-01-01 to 2022-12-31 (based on dailiy date)\n",
    "* Weather parameter: temperature, humidity, wind speed, precipitation, sunlight...\n",
    "* price : based on hourly, DKK1\n",
    "* Demand : "
   ]
  },
  {
   "cell_type": "markdown",
   "id": "49fb72f8",
   "metadata": {},
   "source": [
    "### Defind the parameter"
   ]
  },
  {
   "cell_type": "markdown",
   "id": "286cad3b",
   "metadata": {},
   "source": [
    "-\n",
    "-\n",
    "-\n",
    "-\n",
    "-\n",
    "-\n"
   ]
  },
  {
   "cell_type": "markdown",
   "id": "c65ef813",
   "metadata": {},
   "source": [
    "### Market analysis (EDA)"
   ]
  },
  {
   "cell_type": "markdown",
   "id": "f265af8a",
   "metadata": {},
   "source": [
    "- Development of the Wind Energy market\n",
    "- Development of the Soloar Energy market\n",
    "- Electric Denmand and Pattern(EDA)\n",
    "- Electric historical Data(EDA)\n",
    "- Goverment policies"
   ]
  },
  {
   "cell_type": "markdown",
   "id": "b4eefbc1",
   "metadata": {},
   "source": [
    "### Model Development\n",
    "- Linear Legression, RF, Xgboost, LSTM(time series analysis) model is the best for our project!\n",
    "- Hyperparameters"
   ]
  },
  {
   "cell_type": "markdown",
   "id": "400ab250",
   "metadata": {},
   "source": [
    "### Model evaluation"
   ]
  },
  {
   "cell_type": "markdown",
   "id": "4cbb7583",
   "metadata": {},
   "source": [
    "- MSE\n",
    "- recall, ..\n",
    "- metrics\n"
   ]
  },
  {
   "cell_type": "markdown",
   "id": "b3a92ffd",
   "metadata": {},
   "source": [
    "### Model release and deployment"
   ]
  },
  {
   "cell_type": "markdown",
   "id": "eab4a69d",
   "metadata": {},
   "source": [
    "- git, docker, AWS"
   ]
  },
  {
   "cell_type": "markdown",
   "id": "452a34e4",
   "metadata": {},
   "source": []
  },
  {
   "cell_type": "code",
   "execution_count": null,
   "id": "53594129",
   "metadata": {},
   "outputs": [],
   "source": []
  },
  {
   "cell_type": "code",
   "execution_count": null,
   "id": "cd9bee61",
   "metadata": {},
   "outputs": [],
   "source": []
  },
  {
   "cell_type": "code",
   "execution_count": null,
   "id": "03315709",
   "metadata": {},
   "outputs": [],
   "source": []
  }
 ],
 "metadata": {
  "kernelspec": {
   "display_name": "Python 3 (ipykernel)",
   "language": "python",
   "name": "python3"
  },
  "language_info": {
   "codemirror_mode": {
    "name": "ipython",
    "version": 3
   },
   "file_extension": ".py",
   "mimetype": "text/x-python",
   "name": "python",
   "nbconvert_exporter": "python",
   "pygments_lexer": "ipython3",
   "version": "3.10.9"
  }
 },
 "nbformat": 4,
 "nbformat_minor": 5
}
