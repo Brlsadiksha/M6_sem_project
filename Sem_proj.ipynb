{
 "cells": [
  {
   "attachments": {},
   "cell_type": "markdown",
   "metadata": {},
   "source": [
    "# Data searching "
   ]
  },
  {
   "attachments": {},
   "cell_type": "markdown",
   "metadata": {},
   "source": [
    "Task: Find prices for electricity (day-ahead) for Denmark. As discussed with Roman, these prices already include the different factors that affect them and are a straightforward way to predict el_price for tomorrow, using Darts (https://unit8co.github.io/darts/) library. Darts is a Python library for user-friendly forecasting and anomaly detection on time series. The energy price tomorrow will be determined by the price of electricity yesterday. \n",
    "\n",
    "Approach: Electricity Maps (https://www.electricitymaps.com) is an online platform that provides real-time information about the carbon intensity of electricity production and consumption in various countries and regions around the world. Electricity Maps aims to raise awareness about the carbon intensity of electricity and help individuals and organizations make more informed decisions about their energy consumption and carbon footprint. The platform uses data from a variety of sources, they fetch raw production data from public, free, and official sources. Here a link to a must-read brief explanation on how they trace the origin of electricity: https://www.electricitymaps.com/blog/flow-tracing. Reading so, we assume that the price of the electricity at a certain zone is very affected by the imports and exports of electricity at that exact point, which is also related to the supply and demand at that point. \n",
    "\n",
    "At their GitHub repo (https://github.com/electricitymaps/electricitymaps-contrib#readme),  we have found a FAQ which asks the following: Where does the data come from?  They provide a link (https://github.com/electricitymaps/electricitymaps-contrib#readme) where they have a readme file that explains all the different data sources and we have been able to allocate and track the data that suits for our project.  \n",
    "\n",
    "As mentioned before, we need the electricity price one day ahead at Denmark (Zone 1 – DK1): provided by the ENTSO-E (https://transparency.entsoe.eu/) ."
   ]
  },
  {
   "attachments": {},
   "cell_type": "markdown",
   "metadata": {},
   "source": [
    "We download price data for the years 2020, 2021 and 2022, as csv files."
   ]
  },
  {
   "attachments": {},
   "cell_type": "markdown",
   "metadata": {},
   "source": [
    "# Load the data"
   ]
  },
  {
   "cell_type": "code",
   "execution_count": 10,
   "metadata": {},
   "outputs": [],
   "source": [
    "# import\n",
    "import pandas as pd\n",
    "import glob"
   ]
  },
  {
   "cell_type": "code",
   "execution_count": 22,
   "metadata": {},
   "outputs": [],
   "source": [
    "# all csv \n",
    "csv_files = glob.glob('/Users/endikamichelenabanuelos/Desktop/AAU/M6/Semester project/M6_sem_project/Data/*.csv')"
   ]
  },
  {
   "cell_type": "code",
   "execution_count": 23,
   "metadata": {},
   "outputs": [],
   "source": [
    "# df\n",
    "df = pd.DataFrame()"
   ]
  },
  {
   "cell_type": "code",
   "execution_count": 24,
   "metadata": {},
   "outputs": [],
   "source": [
    "# use a for loop to iterate through the CSV files and load each one into a DataFrame\n",
    "for file in csv_files:\n",
    "    temp_df = pd.read_csv(file)\n",
    "    df = pd.concat([df, temp_df], ignore_index=True)"
   ]
  },
  {
   "cell_type": "code",
   "execution_count": 25,
   "metadata": {},
   "outputs": [],
   "source": [
    "# reset the index of the DataFrame\n",
    "df = df.reset_index(drop=True)"
   ]
  },
  {
   "cell_type": "code",
   "execution_count": 27,
   "metadata": {},
   "outputs": [
    {
     "data": {
      "text/html": [
       "<div>\n",
       "<style scoped>\n",
       "    .dataframe tbody tr th:only-of-type {\n",
       "        vertical-align: middle;\n",
       "    }\n",
       "\n",
       "    .dataframe tbody tr th {\n",
       "        vertical-align: top;\n",
       "    }\n",
       "\n",
       "    .dataframe thead th {\n",
       "        text-align: right;\n",
       "    }\n",
       "</style>\n",
       "<table border=\"1\" class=\"dataframe\">\n",
       "  <thead>\n",
       "    <tr style=\"text-align: right;\">\n",
       "      <th></th>\n",
       "      <th>MTU (CET/CEST)</th>\n",
       "      <th>Day-ahead Price [EUR/MWh]</th>\n",
       "      <th>Currency</th>\n",
       "      <th>BZN|DK1</th>\n",
       "    </tr>\n",
       "  </thead>\n",
       "  <tbody>\n",
       "    <tr>\n",
       "      <th>0</th>\n",
       "      <td>01.01.2020 00:00 - 01.01.2020 01:00</td>\n",
       "      <td>33.42</td>\n",
       "      <td>EUR</td>\n",
       "      <td>NaN</td>\n",
       "    </tr>\n",
       "    <tr>\n",
       "      <th>1</th>\n",
       "      <td>01.01.2020 01:00 - 01.01.2020 02:00</td>\n",
       "      <td>31.77</td>\n",
       "      <td>EUR</td>\n",
       "      <td>NaN</td>\n",
       "    </tr>\n",
       "    <tr>\n",
       "      <th>2</th>\n",
       "      <td>01.01.2020 02:00 - 01.01.2020 03:00</td>\n",
       "      <td>31.57</td>\n",
       "      <td>EUR</td>\n",
       "      <td>NaN</td>\n",
       "    </tr>\n",
       "    <tr>\n",
       "      <th>3</th>\n",
       "      <td>01.01.2020 03:00 - 01.01.2020 04:00</td>\n",
       "      <td>31.28</td>\n",
       "      <td>EUR</td>\n",
       "      <td>NaN</td>\n",
       "    </tr>\n",
       "    <tr>\n",
       "      <th>4</th>\n",
       "      <td>01.01.2020 04:00 - 01.01.2020 05:00</td>\n",
       "      <td>30.85</td>\n",
       "      <td>EUR</td>\n",
       "      <td>NaN</td>\n",
       "    </tr>\n",
       "    <tr>\n",
       "      <th>...</th>\n",
       "      <td>...</td>\n",
       "      <td>...</td>\n",
       "      <td>...</td>\n",
       "      <td>...</td>\n",
       "    </tr>\n",
       "    <tr>\n",
       "      <th>26302</th>\n",
       "      <td>31.12.2022 19:00 - 31.12.2022 20:00</td>\n",
       "      <td>67.01</td>\n",
       "      <td>EUR</td>\n",
       "      <td>NaN</td>\n",
       "    </tr>\n",
       "    <tr>\n",
       "      <th>26303</th>\n",
       "      <td>31.12.2022 20:00 - 31.12.2022 21:00</td>\n",
       "      <td>40.50</td>\n",
       "      <td>EUR</td>\n",
       "      <td>NaN</td>\n",
       "    </tr>\n",
       "    <tr>\n",
       "      <th>26304</th>\n",
       "      <td>31.12.2022 21:00 - 31.12.2022 22:00</td>\n",
       "      <td>14.89</td>\n",
       "      <td>EUR</td>\n",
       "      <td>NaN</td>\n",
       "    </tr>\n",
       "    <tr>\n",
       "      <th>26305</th>\n",
       "      <td>31.12.2022 22:00 - 31.12.2022 23:00</td>\n",
       "      <td>9.94</td>\n",
       "      <td>EUR</td>\n",
       "      <td>NaN</td>\n",
       "    </tr>\n",
       "    <tr>\n",
       "      <th>26306</th>\n",
       "      <td>31.12.2022 23:00 - 01.01.2023 00:00</td>\n",
       "      <td>4.84</td>\n",
       "      <td>EUR</td>\n",
       "      <td>NaN</td>\n",
       "    </tr>\n",
       "  </tbody>\n",
       "</table>\n",
       "<p>26307 rows × 4 columns</p>\n",
       "</div>"
      ],
      "text/plain": [
       "                            MTU (CET/CEST)  Day-ahead Price [EUR/MWh]  \\\n",
       "0      01.01.2020 00:00 - 01.01.2020 01:00                      33.42   \n",
       "1      01.01.2020 01:00 - 01.01.2020 02:00                      31.77   \n",
       "2      01.01.2020 02:00 - 01.01.2020 03:00                      31.57   \n",
       "3      01.01.2020 03:00 - 01.01.2020 04:00                      31.28   \n",
       "4      01.01.2020 04:00 - 01.01.2020 05:00                      30.85   \n",
       "...                                    ...                        ...   \n",
       "26302  31.12.2022 19:00 - 31.12.2022 20:00                      67.01   \n",
       "26303  31.12.2022 20:00 - 31.12.2022 21:00                      40.50   \n",
       "26304  31.12.2022 21:00 - 31.12.2022 22:00                      14.89   \n",
       "26305  31.12.2022 22:00 - 31.12.2022 23:00                       9.94   \n",
       "26306  31.12.2022 23:00 - 01.01.2023 00:00                       4.84   \n",
       "\n",
       "      Currency  BZN|DK1  \n",
       "0          EUR      NaN  \n",
       "1          EUR      NaN  \n",
       "2          EUR      NaN  \n",
       "3          EUR      NaN  \n",
       "4          EUR      NaN  \n",
       "...        ...      ...  \n",
       "26302      EUR      NaN  \n",
       "26303      EUR      NaN  \n",
       "26304      EUR      NaN  \n",
       "26305      EUR      NaN  \n",
       "26306      EUR      NaN  \n",
       "\n",
       "[26307 rows x 4 columns]"
      ]
     },
     "execution_count": 27,
     "metadata": {},
     "output_type": "execute_result"
    }
   ],
   "source": [
    "# df\n",
    "df"
   ]
  },
  {
   "cell_type": "code",
   "execution_count": 22,
   "metadata": {},
   "outputs": [
    {
     "name": "stdout",
     "output_type": "stream",
     "text": [
      "<class 'pandas.core.frame.DataFrame'>\n",
      "RangeIndex: 26307 entries, 0 to 26306\n",
      "Data columns (total 4 columns):\n",
      " #   Column                     Non-Null Count  Dtype  \n",
      "---  ------                     --------------  -----  \n",
      " 0   MTU (CET/CEST)             26307 non-null  object \n",
      " 1   Day-ahead Price [EUR/MWh]  26304 non-null  float64\n",
      " 2   Currency                   26304 non-null  object \n",
      " 3   BZN|DK1                    0 non-null      float64\n",
      "dtypes: float64(2), object(2)\n",
      "memory usage: 822.2+ KB\n"
     ]
    }
   ],
   "source": [
    "# info\n",
    "df.info()"
   ]
  },
  {
   "cell_type": "code",
   "execution_count": 37,
   "metadata": {},
   "outputs": [
    {
     "data": {
      "text/plain": [
       "Index(['MTU (CET/CEST)', 'Day-ahead Price [EUR/MWh]', 'Currency', 'BZN|DK1'], dtype='object')"
      ]
     },
     "execution_count": 37,
     "metadata": {},
     "output_type": "execute_result"
    }
   ],
   "source": [
    "# columns\n",
    "df.columns"
   ]
  },
  {
   "cell_type": "code",
   "execution_count": 39,
   "metadata": {},
   "outputs": [
    {
     "data": {
      "text/html": [
       "<div>\n",
       "<style scoped>\n",
       "    .dataframe tbody tr th:only-of-type {\n",
       "        vertical-align: middle;\n",
       "    }\n",
       "\n",
       "    .dataframe tbody tr th {\n",
       "        vertical-align: top;\n",
       "    }\n",
       "\n",
       "    .dataframe thead th {\n",
       "        text-align: right;\n",
       "    }\n",
       "</style>\n",
       "<table border=\"1\" class=\"dataframe\">\n",
       "  <thead>\n",
       "    <tr style=\"text-align: right;\">\n",
       "      <th></th>\n",
       "      <th>Day-ahead Price [EUR/MWh]</th>\n",
       "      <th>BZN|DK1</th>\n",
       "    </tr>\n",
       "  </thead>\n",
       "  <tbody>\n",
       "    <tr>\n",
       "      <th>count</th>\n",
       "      <td>26304.000000</td>\n",
       "      <td>0.0</td>\n",
       "    </tr>\n",
       "    <tr>\n",
       "      <th>mean</th>\n",
       "      <td>110.641208</td>\n",
       "      <td>NaN</td>\n",
       "    </tr>\n",
       "    <tr>\n",
       "      <th>std</th>\n",
       "      <td>122.782189</td>\n",
       "      <td>NaN</td>\n",
       "    </tr>\n",
       "    <tr>\n",
       "      <th>min</th>\n",
       "      <td>-58.800000</td>\n",
       "      <td>NaN</td>\n",
       "    </tr>\n",
       "    <tr>\n",
       "      <th>25%</th>\n",
       "      <td>28.767500</td>\n",
       "      <td>NaN</td>\n",
       "    </tr>\n",
       "    <tr>\n",
       "      <th>50%</th>\n",
       "      <td>63.340000</td>\n",
       "      <td>NaN</td>\n",
       "    </tr>\n",
       "    <tr>\n",
       "      <th>75%</th>\n",
       "      <td>152.835000</td>\n",
       "      <td>NaN</td>\n",
       "    </tr>\n",
       "    <tr>\n",
       "      <th>max</th>\n",
       "      <td>871.000000</td>\n",
       "      <td>NaN</td>\n",
       "    </tr>\n",
       "  </tbody>\n",
       "</table>\n",
       "</div>"
      ],
      "text/plain": [
       "       Day-ahead Price [EUR/MWh]  BZN|DK1\n",
       "count               26304.000000      0.0\n",
       "mean                  110.641208      NaN\n",
       "std                   122.782189      NaN\n",
       "min                   -58.800000      NaN\n",
       "25%                    28.767500      NaN\n",
       "50%                    63.340000      NaN\n",
       "75%                   152.835000      NaN\n",
       "max                   871.000000      NaN"
      ]
     },
     "execution_count": 39,
     "metadata": {},
     "output_type": "execute_result"
    }
   ],
   "source": [
    "# describe\n",
    "df.describe()"
   ]
  },
  {
   "attachments": {},
   "cell_type": "markdown",
   "metadata": {},
   "source": [
    "# Data preprocessing"
   ]
  },
  {
   "cell_type": "code",
   "execution_count": 30,
   "metadata": {},
   "outputs": [
    {
     "data": {
      "text/html": [
       "<div>\n",
       "<style scoped>\n",
       "    .dataframe tbody tr th:only-of-type {\n",
       "        vertical-align: middle;\n",
       "    }\n",
       "\n",
       "    .dataframe tbody tr th {\n",
       "        vertical-align: top;\n",
       "    }\n",
       "\n",
       "    .dataframe thead th {\n",
       "        text-align: right;\n",
       "    }\n",
       "</style>\n",
       "<table border=\"1\" class=\"dataframe\">\n",
       "  <thead>\n",
       "    <tr style=\"text-align: right;\">\n",
       "      <th></th>\n",
       "      <th>MTU (CET/CEST)</th>\n",
       "      <th>Day-ahead Price [EUR/MWh]</th>\n",
       "      <th>Currency</th>\n",
       "      <th>BZN|DK1</th>\n",
       "    </tr>\n",
       "  </thead>\n",
       "  <tbody>\n",
       "    <tr>\n",
       "      <th>0</th>\n",
       "      <td>01.01.2020 00:00 - 01.01.2020 01:00</td>\n",
       "      <td>33.42</td>\n",
       "      <td>EUR</td>\n",
       "      <td>NaN</td>\n",
       "    </tr>\n",
       "    <tr>\n",
       "      <th>1</th>\n",
       "      <td>01.01.2020 01:00 - 01.01.2020 02:00</td>\n",
       "      <td>31.77</td>\n",
       "      <td>EUR</td>\n",
       "      <td>NaN</td>\n",
       "    </tr>\n",
       "    <tr>\n",
       "      <th>2</th>\n",
       "      <td>01.01.2020 02:00 - 01.01.2020 03:00</td>\n",
       "      <td>31.57</td>\n",
       "      <td>EUR</td>\n",
       "      <td>NaN</td>\n",
       "    </tr>\n",
       "    <tr>\n",
       "      <th>3</th>\n",
       "      <td>01.01.2020 03:00 - 01.01.2020 04:00</td>\n",
       "      <td>31.28</td>\n",
       "      <td>EUR</td>\n",
       "      <td>NaN</td>\n",
       "    </tr>\n",
       "    <tr>\n",
       "      <th>4</th>\n",
       "      <td>01.01.2020 04:00 - 01.01.2020 05:00</td>\n",
       "      <td>30.85</td>\n",
       "      <td>EUR</td>\n",
       "      <td>NaN</td>\n",
       "    </tr>\n",
       "    <tr>\n",
       "      <th>...</th>\n",
       "      <td>...</td>\n",
       "      <td>...</td>\n",
       "      <td>...</td>\n",
       "      <td>...</td>\n",
       "    </tr>\n",
       "    <tr>\n",
       "      <th>26302</th>\n",
       "      <td>31.12.2022 19:00 - 31.12.2022 20:00</td>\n",
       "      <td>67.01</td>\n",
       "      <td>EUR</td>\n",
       "      <td>NaN</td>\n",
       "    </tr>\n",
       "    <tr>\n",
       "      <th>26303</th>\n",
       "      <td>31.12.2022 20:00 - 31.12.2022 21:00</td>\n",
       "      <td>40.50</td>\n",
       "      <td>EUR</td>\n",
       "      <td>NaN</td>\n",
       "    </tr>\n",
       "    <tr>\n",
       "      <th>26304</th>\n",
       "      <td>31.12.2022 21:00 - 31.12.2022 22:00</td>\n",
       "      <td>14.89</td>\n",
       "      <td>EUR</td>\n",
       "      <td>NaN</td>\n",
       "    </tr>\n",
       "    <tr>\n",
       "      <th>26305</th>\n",
       "      <td>31.12.2022 22:00 - 31.12.2022 23:00</td>\n",
       "      <td>9.94</td>\n",
       "      <td>EUR</td>\n",
       "      <td>NaN</td>\n",
       "    </tr>\n",
       "    <tr>\n",
       "      <th>26306</th>\n",
       "      <td>31.12.2022 23:00 - 01.01.2023 00:00</td>\n",
       "      <td>4.84</td>\n",
       "      <td>EUR</td>\n",
       "      <td>NaN</td>\n",
       "    </tr>\n",
       "  </tbody>\n",
       "</table>\n",
       "<p>26307 rows × 4 columns</p>\n",
       "</div>"
      ],
      "text/plain": [
       "                            MTU (CET/CEST)  Day-ahead Price [EUR/MWh]  \\\n",
       "0      01.01.2020 00:00 - 01.01.2020 01:00                      33.42   \n",
       "1      01.01.2020 01:00 - 01.01.2020 02:00                      31.77   \n",
       "2      01.01.2020 02:00 - 01.01.2020 03:00                      31.57   \n",
       "3      01.01.2020 03:00 - 01.01.2020 04:00                      31.28   \n",
       "4      01.01.2020 04:00 - 01.01.2020 05:00                      30.85   \n",
       "...                                    ...                        ...   \n",
       "26302  31.12.2022 19:00 - 31.12.2022 20:00                      67.01   \n",
       "26303  31.12.2022 20:00 - 31.12.2022 21:00                      40.50   \n",
       "26304  31.12.2022 21:00 - 31.12.2022 22:00                      14.89   \n",
       "26305  31.12.2022 22:00 - 31.12.2022 23:00                       9.94   \n",
       "26306  31.12.2022 23:00 - 01.01.2023 00:00                       4.84   \n",
       "\n",
       "      Currency  BZN|DK1  \n",
       "0          EUR      NaN  \n",
       "1          EUR      NaN  \n",
       "2          EUR      NaN  \n",
       "3          EUR      NaN  \n",
       "4          EUR      NaN  \n",
       "...        ...      ...  \n",
       "26302      EUR      NaN  \n",
       "26303      EUR      NaN  \n",
       "26304      EUR      NaN  \n",
       "26305      EUR      NaN  \n",
       "26306      EUR      NaN  \n",
       "\n",
       "[26307 rows x 4 columns]"
      ]
     },
     "execution_count": 30,
     "metadata": {},
     "output_type": "execute_result"
    }
   ],
   "source": [
    "df"
   ]
  },
  {
   "cell_type": "code",
   "execution_count": 35,
   "metadata": {},
   "outputs": [
    {
     "ename": "ValueError",
     "evalue": "Columns must be same length as key",
     "output_type": "error",
     "traceback": [
      "\u001b[0;31m---------------------------------------------------------------------------\u001b[0m",
      "\u001b[0;31mValueError\u001b[0m                                Traceback (most recent call last)",
      "\u001b[1;32m/Users/endikamichelenabanuelos/Desktop/AAU/M6/Semester project/M6_sem_project/Sem_proj.ipynb Cell 16\u001b[0m in \u001b[0;36m2\n\u001b[1;32m      <a href='vscode-notebook-cell:/Users/endikamichelenabanuelos/Desktop/AAU/M6/Semester%20project/M6_sem_project/Sem_proj.ipynb#X23sZmlsZQ%3D%3D?line=0'>1</a>\u001b[0m \u001b[39m# Split the datetime column into separate date and time columns\u001b[39;00m\n\u001b[0;32m----> <a href='vscode-notebook-cell:/Users/endikamichelenabanuelos/Desktop/AAU/M6/Semester%20project/M6_sem_project/Sem_proj.ipynb#X23sZmlsZQ%3D%3D?line=1'>2</a>\u001b[0m df[[\u001b[39m'\u001b[39m\u001b[39mdate\u001b[39m\u001b[39m'\u001b[39m, \u001b[39m'\u001b[39m\u001b[39mtime\u001b[39m\u001b[39m'\u001b[39m]] \u001b[39m=\u001b[39m df[\u001b[39m'\u001b[39m\u001b[39mMTU (CET/CEST)\u001b[39m\u001b[39m'\u001b[39m]\u001b[39m.\u001b[39mstr\u001b[39m.\u001b[39msplit(\u001b[39m'\u001b[39m\u001b[39m - \u001b[39m\u001b[39m'\u001b[39m, expand\u001b[39m=\u001b[39m\u001b[39mTrue\u001b[39;00m)\n",
      "File \u001b[0;32m/Library/Frameworks/Python.framework/Versions/3.10/lib/python3.10/site-packages/pandas/core/frame.py:3643\u001b[0m, in \u001b[0;36mDataFrame.__setitem__\u001b[0;34m(self, key, value)\u001b[0m\n\u001b[1;32m   3641\u001b[0m     \u001b[39mself\u001b[39m\u001b[39m.\u001b[39m_setitem_frame(key, value)\n\u001b[1;32m   3642\u001b[0m \u001b[39melif\u001b[39;00m \u001b[39misinstance\u001b[39m(key, (Series, np\u001b[39m.\u001b[39mndarray, \u001b[39mlist\u001b[39m, Index)):\n\u001b[0;32m-> 3643\u001b[0m     \u001b[39mself\u001b[39;49m\u001b[39m.\u001b[39;49m_setitem_array(key, value)\n\u001b[1;32m   3644\u001b[0m \u001b[39melif\u001b[39;00m \u001b[39misinstance\u001b[39m(value, DataFrame):\n\u001b[1;32m   3645\u001b[0m     \u001b[39mself\u001b[39m\u001b[39m.\u001b[39m_set_item_frame_value(key, value)\n",
      "File \u001b[0;32m/Library/Frameworks/Python.framework/Versions/3.10/lib/python3.10/site-packages/pandas/core/frame.py:3685\u001b[0m, in \u001b[0;36mDataFrame._setitem_array\u001b[0;34m(self, key, value)\u001b[0m\n\u001b[1;32m   3680\u001b[0m \u001b[39melse\u001b[39;00m:\n\u001b[1;32m   3681\u001b[0m     \u001b[39m# Note: unlike self.iloc[:, indexer] = value, this will\u001b[39;00m\n\u001b[1;32m   3682\u001b[0m     \u001b[39m#  never try to overwrite values inplace\u001b[39;00m\n\u001b[1;32m   3684\u001b[0m     \u001b[39mif\u001b[39;00m \u001b[39misinstance\u001b[39m(value, DataFrame):\n\u001b[0;32m-> 3685\u001b[0m         check_key_length(\u001b[39mself\u001b[39;49m\u001b[39m.\u001b[39;49mcolumns, key, value)\n\u001b[1;32m   3686\u001b[0m         \u001b[39mfor\u001b[39;00m k1, k2 \u001b[39min\u001b[39;00m \u001b[39mzip\u001b[39m(key, value\u001b[39m.\u001b[39mcolumns):\n\u001b[1;32m   3687\u001b[0m             \u001b[39mself\u001b[39m[k1] \u001b[39m=\u001b[39m value[k2]\n",
      "File \u001b[0;32m/Library/Frameworks/Python.framework/Versions/3.10/lib/python3.10/site-packages/pandas/core/indexers/utils.py:428\u001b[0m, in \u001b[0;36mcheck_key_length\u001b[0;34m(columns, key, value)\u001b[0m\n\u001b[1;32m    426\u001b[0m \u001b[39mif\u001b[39;00m columns\u001b[39m.\u001b[39mis_unique:\n\u001b[1;32m    427\u001b[0m     \u001b[39mif\u001b[39;00m \u001b[39mlen\u001b[39m(value\u001b[39m.\u001b[39mcolumns) \u001b[39m!=\u001b[39m \u001b[39mlen\u001b[39m(key):\n\u001b[0;32m--> 428\u001b[0m         \u001b[39mraise\u001b[39;00m \u001b[39mValueError\u001b[39;00m(\u001b[39m\"\u001b[39m\u001b[39mColumns must be same length as key\u001b[39m\u001b[39m\"\u001b[39m)\n\u001b[1;32m    429\u001b[0m \u001b[39melse\u001b[39;00m:\n\u001b[1;32m    430\u001b[0m     \u001b[39m# Missing keys in columns are represented as -1\u001b[39;00m\n\u001b[1;32m    431\u001b[0m     \u001b[39mif\u001b[39;00m \u001b[39mlen\u001b[39m(columns\u001b[39m.\u001b[39mget_indexer_non_unique(key)[\u001b[39m0\u001b[39m]) \u001b[39m!=\u001b[39m \u001b[39mlen\u001b[39m(value\u001b[39m.\u001b[39mcolumns):\n",
      "\u001b[0;31mValueError\u001b[0m: Columns must be same length as key"
     ]
    }
   ],
   "source": [
    "# Split the datetime column into separate d"
   ]
  },
  {
   "cell_type": "code",
   "execution_count": null,
   "metadata": {},
   "outputs": [],
   "source": []
  }
 ],
 "metadata": {
  "kernelspec": {
   "display_name": "Python 3",
   "language": "python",
   "name": "python3"
  },
  "language_info": {
   "codemirror_mode": {
    "name": "ipython",
    "version": 3
   },
   "file_extension": ".py",
   "mimetype": "text/x-python",
   "name": "python",
   "nbconvert_exporter": "python",
   "pygments_lexer": "ipython3",
   "version": "3.10.7"
  },
  "orig_nbformat": 4
 },
 "nbformat": 4,
 "nbformat_minor": 2
}
